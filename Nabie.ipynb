{
 "cells": [
  {
   "cell_type": "code",
   "execution_count": 1,
   "id": "7d4c8d1f-8627-4bdb-bfe4-91ff76aab668",
   "metadata": {},
   "outputs": [],
   "source": [
    "# Librerías para manejo de datos\n",
    "import pandas as pd\n",
    "pd.set_option('display.max_columns', 25) # Número máximo de columnas a mostrar\n",
    "pd.set_option('display.max_rows', 50) # Numero máximo de filas a mostar\n",
    "import numpy as np\n",
    "np.random.seed(3301)\n",
    "import pandas as pd\n",
    "# Para preparar los datos\n",
    "from sklearn.preprocessing import LabelEncoder\n",
    "# Para realizar la separación del conjunto de aprendizaje en entrenamiento y test.\n",
    "from sklearn.model_selection import train_test_split\n",
    "# Para evaluar el modelo\n",
    "from sklearn.metrics import confusion_matrix, classification_report, precision_score, recall_score, f1_score, accuracy_score\n",
    "from sklearn.metrics import plot_confusion_matrix\n",
    "# Para búsqueda de hiperparámetros\n",
    "from sklearn.model_selection import GridSearchCV\n",
    "# Para la validación cruzada\n",
    "from sklearn.model_selection import KFold \n",
    "#Librerías para la visualización\n",
    "import matplotlib as mplt\n",
    "import matplotlib.pyplot as plt\n",
    "# Seaborn\n",
    "import seaborn as sns \n",
    "from sklearn import tree\n",
    "# Para la serialización del modelo\n",
    "import pickle\n",
    "from sklearn import preprocessing\n",
    "import re\n",
    "pd.options.mode.chained_assignment = None  # default='warn'\n"
   ]
  },
  {
   "cell_type": "code",
   "execution_count": 2,
   "id": "a53fdaf2-5aba-4d5b-b1d6-4ca477400b4d",
   "metadata": {},
   "outputs": [
    {
     "data": {
      "text/plain": [
       "'3.5.1'"
      ]
     },
     "execution_count": 2,
     "metadata": {},
     "output_type": "execute_result"
    }
   ],
   "source": [
    "sns.__version__\n",
    "mplt.__version__"
   ]
  },
  {
   "cell_type": "code",
   "execution_count": 3,
   "id": "a3a6d33f-2b1f-4185-a6a0-6a4ef5e3e0e3",
   "metadata": {},
   "outputs": [],
   "source": [
    "# Carga de datos\n",
    "db_location = \"202220_Laboratorio_1_data_heart_disease_data.csv\"\n",
    "df_responses=pd.read_csv(db_location, sep=',', encoding = 'utf-8', index_col=0)"
   ]
  },
  {
   "cell_type": "markdown",
   "id": "80e6967c-1732-4080-8c7e-616654b3dbb2",
   "metadata": {},
   "source": [
    "# ENTENDIMIENTO DE LOS DATOS"
   ]
  },
  {
   "cell_type": "markdown",
   "id": "305d850b-65fa-4a76-be1e-465a2230c982",
   "metadata": {},
   "source": [
    "El objetivo de SaludAlpes es agilizar el proceso de detección de posibles casos de enfermedades cardiovasculares; para lo cual nosotros vamos a construir el mejor modelo de predicción posible para saber si una persona es susceptible o no a tener una enfermedad cardiovascular. Para esto, SaludAlpes nos provee los resultados de una encuesta hecha por adultos mayores de 50 años, donde cada registro representa la información de cada adulto que contestó la encuesta; a continuación, haremos un perfilamiento de los datos, evaluaremos la calidad de estos y crearemos un tablero de control, de manera que se pueda decidir qué tareas de transformación de los datos serán necesarios para que sean más útiles para el objetivo de SaludAlpes.\n",
    "Después de estudiar el glosario de los datos provistos por SaludAlpes, encontramos 3 categorías en las que las columnas pueden ser agrupadas:\n",
    "\n",
    "- Datos personales: BMI, Sex, AgeCategory, Race \n",
    "- Hábitos: Smoking, AlcoholDrinking, PhysicalActivity, SleepTime\n",
    "- Historial clínico: HeartDisease, Stroke, PhysicalHealth, MentalHealth, DiffWalking, Diabetic, GenHealth, Asthma, KidneyDisease, SkinCancer\n",
    "\n",
    "Es evidente que hay más datos de historial clínico, sin embargo, los datos de hábitos están estrictamente relacionados con la salud y los datos personales pueden permitir encontrar patrones que en principio pueden no parecer útiles, sin embargo, se ha visto que en muchos casos pertenecer a una raza en especifico o estar entre cierto rango de edades, aumenta la posibilidad de desarrollar alguna enfermedad en particular. \n"
   ]
  },
  {
   "cell_type": "markdown",
   "id": "bfde67cb-4d53-4b3c-aa2e-559f1294d79e",
   "metadata": {},
   "source": [
    "## Descripcion de los datos"
   ]
  },
  {
   "cell_type": "code",
   "execution_count": 4,
   "id": "1ad23d0e-f40d-482d-9b0f-276cca29635d",
   "metadata": {},
   "outputs": [
    {
     "data": {
      "text/plain": [
       "(67500, 18)"
      ]
     },
     "execution_count": 4,
     "metadata": {},
     "output_type": "execute_result"
    }
   ],
   "source": [
    "# Cantidad de datos y número de variables\n",
    "df_responses.shape"
   ]
  },
  {
   "cell_type": "code",
   "execution_count": 5,
   "id": "3c0b9ec8-5dd7-4d42-ba44-1a641653699c",
   "metadata": {},
   "outputs": [
    {
     "data": {
      "text/plain": [
       "BMI                  object\n",
       "Smoking              object\n",
       "AlcoholDrinking      object\n",
       "Stroke               object\n",
       "PhysicalHealth       object\n",
       "MentalHealth         object\n",
       "DiffWalking          object\n",
       "Sex                  object\n",
       "AgeCategory          object\n",
       "Race                 object\n",
       "Diabetic             object\n",
       "PhysicalActivity     object\n",
       "GenHealth            object\n",
       "SleepTime           float64\n",
       "Asthma               object\n",
       "KidneyDisease        object\n",
       "SkinCancer           object\n",
       "HeartDisease         object\n",
       "dtype: object"
      ]
     },
     "execution_count": 5,
     "metadata": {},
     "output_type": "execute_result"
    }
   ],
   "source": [
    "# Imprimimos los diferentes tipos de las columnas\n",
    "df_responses.dtypes"
   ]
  },
  {
   "cell_type": "markdown",
   "id": "10e671fe-c9ed-4f50-b569-9107e455ca47",
   "metadata": {},
   "source": [
    "Tenemos un total de 67.500 registros, con 18 columnas generalmente categóricas (de respuesta sí o no) y algunas otras numéricas. No obstante, en la fuente los valores numéricos vienen como cadenas de caracteres."
   ]
  },
  {
   "cell_type": "code",
   "execution_count": 6,
   "id": "046ba64e-41f5-4b5f-ab1b-7d33df13f37d",
   "metadata": {},
   "outputs": [
    {
     "data": {
      "text/html": [
       "<div>\n",
       "<style scoped>\n",
       "    .dataframe tbody tr th:only-of-type {\n",
       "        vertical-align: middle;\n",
       "    }\n",
       "\n",
       "    .dataframe tbody tr th {\n",
       "        vertical-align: top;\n",
       "    }\n",
       "\n",
       "    .dataframe thead th {\n",
       "        text-align: right;\n",
       "    }\n",
       "</style>\n",
       "<table border=\"1\" class=\"dataframe\">\n",
       "  <thead>\n",
       "    <tr style=\"text-align: right;\">\n",
       "      <th></th>\n",
       "      <th>BMI</th>\n",
       "      <th>Smoking</th>\n",
       "      <th>AlcoholDrinking</th>\n",
       "      <th>Stroke</th>\n",
       "      <th>PhysicalHealth</th>\n",
       "      <th>MentalHealth</th>\n",
       "      <th>DiffWalking</th>\n",
       "      <th>Sex</th>\n",
       "      <th>AgeCategory</th>\n",
       "      <th>Race</th>\n",
       "      <th>Diabetic</th>\n",
       "      <th>PhysicalActivity</th>\n",
       "      <th>GenHealth</th>\n",
       "      <th>SleepTime</th>\n",
       "      <th>Asthma</th>\n",
       "      <th>KidneyDisease</th>\n",
       "      <th>SkinCancer</th>\n",
       "      <th>HeartDisease</th>\n",
       "    </tr>\n",
       "    <tr>\n",
       "      <th>Index</th>\n",
       "      <th></th>\n",
       "      <th></th>\n",
       "      <th></th>\n",
       "      <th></th>\n",
       "      <th></th>\n",
       "      <th></th>\n",
       "      <th></th>\n",
       "      <th></th>\n",
       "      <th></th>\n",
       "      <th></th>\n",
       "      <th></th>\n",
       "      <th></th>\n",
       "      <th></th>\n",
       "      <th></th>\n",
       "      <th></th>\n",
       "      <th></th>\n",
       "      <th></th>\n",
       "      <th></th>\n",
       "    </tr>\n",
       "  </thead>\n",
       "  <tbody>\n",
       "    <tr>\n",
       "      <th>0</th>\n",
       "      <td>26.5</td>\n",
       "      <td>No</td>\n",
       "      <td>No</td>\n",
       "      <td>No</td>\n",
       "      <td>0.0</td>\n",
       "      <td>0.0</td>\n",
       "      <td>No</td>\n",
       "      <td>Male</td>\n",
       "      <td>64-60</td>\n",
       "      <td>White</td>\n",
       "      <td>No</td>\n",
       "      <td>Yes</td>\n",
       "      <td>Very good</td>\n",
       "      <td>8.0</td>\n",
       "      <td>No</td>\n",
       "      <td>No</td>\n",
       "      <td>No</td>\n",
       "      <td>No</td>\n",
       "    </tr>\n",
       "    <tr>\n",
       "      <th>1</th>\n",
       "      <td>28.75</td>\n",
       "      <td>ýNoÚ</td>\n",
       "      <td>No</td>\n",
       "      <td>No</td>\n",
       "      <td>0.0</td>\n",
       "      <td>2.0</td>\n",
       "      <td>No</td>\n",
       "      <td>Male</td>\n",
       "      <td>59-55</td>\n",
       "      <td>White</td>\n",
       "      <td>No</td>\n",
       "      <td>Yes</td>\n",
       "      <td>Very good</td>\n",
       "      <td>7.0</td>\n",
       "      <td>No</td>\n",
       "      <td>No</td>\n",
       "      <td>No</td>\n",
       "      <td>No</td>\n",
       "    </tr>\n",
       "    <tr>\n",
       "      <th>2</th>\n",
       "      <td>19.9</td>\n",
       "      <td>Yes</td>\n",
       "      <td>No</td>\n",
       "      <td>No</td>\n",
       "      <td>0.0</td>\n",
       "      <td>1.0</td>\n",
       "      <td>No</td>\n",
       "      <td>Male</td>\n",
       "      <td>39-35</td>\n",
       "      <td>White</td>\n",
       "      <td>No</td>\n",
       "      <td>Yes</td>\n",
       "      <td>Good</td>\n",
       "      <td>7.0</td>\n",
       "      <td>No</td>\n",
       "      <td>No</td>\n",
       "      <td>No</td>\n",
       "      <td>No</td>\n",
       "    </tr>\n",
       "    <tr>\n",
       "      <th>3</th>\n",
       "      <td>28.06</td>\n",
       "      <td>No</td>\n",
       "      <td>No</td>\n",
       "      <td>No</td>\n",
       "      <td>1.0</td>\n",
       "      <td>1.0</td>\n",
       "      <td>No</td>\n",
       "      <td>Female</td>\n",
       "      <td>69-65</td>\n",
       "      <td>White</td>\n",
       "      <td>Yes</td>\n",
       "      <td>Yes</td>\n",
       "      <td>Good</td>\n",
       "      <td>8.0</td>\n",
       "      <td>No</td>\n",
       "      <td>No</td>\n",
       "      <td>No</td>\n",
       "      <td>£NoÇ</td>\n",
       "    </tr>\n",
       "    <tr>\n",
       "      <th>4</th>\n",
       "      <td>29.29</td>\n",
       "      <td>Yes</td>\n",
       "      <td>No</td>\n",
       "      <td>No</td>\n",
       "      <td>0.0</td>\n",
       "      <td>1.0</td>\n",
       "      <td>No</td>\n",
       "      <td>Female</td>\n",
       "      <td>74-70</td>\n",
       "      <td>White</td>\n",
       "      <td>No</td>\n",
       "      <td>Yes</td>\n",
       "      <td>Very good</td>\n",
       "      <td>7.0</td>\n",
       "      <td>Yes</td>\n",
       "      <td>No</td>\n",
       "      <td>No</td>\n",
       "      <td>No</td>\n",
       "    </tr>\n",
       "  </tbody>\n",
       "</table>\n",
       "</div>"
      ],
      "text/plain": [
       "         BMI Smoking AlcoholDrinking Stroke PhysicalHealth MentalHealth  \\\n",
       "Index                                                                     \n",
       "0       26.5      No              No     No            0.0          0.0   \n",
       "1      28.75    ýNoÚ              No     No            0.0          2.0   \n",
       "2       19.9     Yes              No     No            0.0          1.0   \n",
       "3      28.06      No              No     No            1.0          1.0   \n",
       "4      29.29     Yes              No     No            0.0          1.0   \n",
       "\n",
       "      DiffWalking     Sex AgeCategory   Race Diabetic PhysicalActivity  \\\n",
       "Index                                                                    \n",
       "0              No    Male       64-60  White       No              Yes   \n",
       "1              No    Male       59-55  White       No              Yes   \n",
       "2              No    Male       39-35  White       No              Yes   \n",
       "3              No  Female       69-65  White      Yes              Yes   \n",
       "4              No  Female       74-70  White       No              Yes   \n",
       "\n",
       "       GenHealth  SleepTime Asthma KidneyDisease SkinCancer HeartDisease  \n",
       "Index                                                                     \n",
       "0      Very good        8.0     No            No         No           No  \n",
       "1      Very good        7.0     No            No         No           No  \n",
       "2           Good        7.0     No            No         No           No  \n",
       "3           Good        8.0     No            No         No         £NoÇ  \n",
       "4      Very good        7.0    Yes            No         No           No  "
      ]
     },
     "execution_count": 6,
     "metadata": {},
     "output_type": "execute_result"
    }
   ],
   "source": [
    "df_responses.head()"
   ]
  },
  {
   "cell_type": "code",
   "execution_count": 7,
   "id": "5a729145-f1e7-4b1e-b663-41381eaccc4d",
   "metadata": {},
   "outputs": [
    {
     "data": {
      "text/html": [
       "<div>\n",
       "<style scoped>\n",
       "    .dataframe tbody tr th:only-of-type {\n",
       "        vertical-align: middle;\n",
       "    }\n",
       "\n",
       "    .dataframe tbody tr th {\n",
       "        vertical-align: top;\n",
       "    }\n",
       "\n",
       "    .dataframe thead th {\n",
       "        text-align: right;\n",
       "    }\n",
       "</style>\n",
       "<table border=\"1\" class=\"dataframe\">\n",
       "  <thead>\n",
       "    <tr style=\"text-align: right;\">\n",
       "      <th></th>\n",
       "      <th>BMI</th>\n",
       "      <th>Smoking</th>\n",
       "      <th>AlcoholDrinking</th>\n",
       "      <th>Stroke</th>\n",
       "      <th>PhysicalHealth</th>\n",
       "      <th>MentalHealth</th>\n",
       "      <th>DiffWalking</th>\n",
       "      <th>Sex</th>\n",
       "      <th>AgeCategory</th>\n",
       "      <th>Race</th>\n",
       "      <th>Diabetic</th>\n",
       "      <th>PhysicalActivity</th>\n",
       "      <th>GenHealth</th>\n",
       "      <th>SleepTime</th>\n",
       "      <th>Asthma</th>\n",
       "      <th>KidneyDisease</th>\n",
       "      <th>SkinCancer</th>\n",
       "      <th>HeartDisease</th>\n",
       "    </tr>\n",
       "    <tr>\n",
       "      <th>Index</th>\n",
       "      <th></th>\n",
       "      <th></th>\n",
       "      <th></th>\n",
       "      <th></th>\n",
       "      <th></th>\n",
       "      <th></th>\n",
       "      <th></th>\n",
       "      <th></th>\n",
       "      <th></th>\n",
       "      <th></th>\n",
       "      <th></th>\n",
       "      <th></th>\n",
       "      <th></th>\n",
       "      <th></th>\n",
       "      <th></th>\n",
       "      <th></th>\n",
       "      <th></th>\n",
       "      <th></th>\n",
       "    </tr>\n",
       "  </thead>\n",
       "  <tbody>\n",
       "    <tr>\n",
       "      <th>67495</th>\n",
       "      <td>26.97</td>\n",
       "      <td>No</td>\n",
       "      <td>No</td>\n",
       "      <td>No</td>\n",
       "      <td>14.0</td>\n",
       "      <td>14.0</td>\n",
       "      <td>No</td>\n",
       "      <td>NaN</td>\n",
       "      <td>74-70</td>\n",
       "      <td>White</td>\n",
       "      <td>No</td>\n",
       "      <td>Yes</td>\n",
       "      <td>Fair</td>\n",
       "      <td>8.0</td>\n",
       "      <td>No</td>\n",
       "      <td>No</td>\n",
       "      <td>Yes</td>\n",
       "      <td>No</td>\n",
       "    </tr>\n",
       "    <tr>\n",
       "      <th>67496</th>\n",
       "      <td>243.60000000000002</td>\n",
       "      <td>Yes</td>\n",
       "      <td>No</td>\n",
       "      <td>No</td>\n",
       "      <td>30.0</td>\n",
       "      <td>0.0</td>\n",
       "      <td>No</td>\n",
       "      <td>Female</td>\n",
       "      <td>79-75</td>\n",
       "      <td>White</td>\n",
       "      <td>No</td>\n",
       "      <td>No</td>\n",
       "      <td>Fair</td>\n",
       "      <td>7.0</td>\n",
       "      <td>No</td>\n",
       "      <td>No</td>\n",
       "      <td>No</td>\n",
       "      <td>ïNo├</td>\n",
       "    </tr>\n",
       "    <tr>\n",
       "      <th>67497</th>\n",
       "      <td>27.44</td>\n",
       "      <td>No</td>\n",
       "      <td>No</td>\n",
       "      <td>No</td>\n",
       "      <td>0.0</td>\n",
       "      <td>2.0</td>\n",
       "      <td>Yes</td>\n",
       "      <td>Female</td>\n",
       "      <td>64-60</td>\n",
       "      <td>White</td>\n",
       "      <td>No</td>\n",
       "      <td>No</td>\n",
       "      <td>Good</td>\n",
       "      <td>7.0</td>\n",
       "      <td>No</td>\n",
       "      <td>No</td>\n",
       "      <td>No</td>\n",
       "      <td>No</td>\n",
       "    </tr>\n",
       "    <tr>\n",
       "      <th>67498</th>\n",
       "      <td>18.88</td>\n",
       "      <td>Yes</td>\n",
       "      <td>Yes</td>\n",
       "      <td>No</td>\n",
       "      <td>14.0</td>\n",
       "      <td>2.0</td>\n",
       "      <td>No</td>\n",
       "      <td>Female</td>\n",
       "      <td>69-65</td>\n",
       "      <td>White</td>\n",
       "      <td>No</td>\n",
       "      <td>Yes</td>\n",
       "      <td>Fair</td>\n",
       "      <td>8.0</td>\n",
       "      <td>No</td>\n",
       "      <td>No</td>\n",
       "      <td>No</td>\n",
       "      <td>NaN</td>\n",
       "    </tr>\n",
       "    <tr>\n",
       "      <th>67499</th>\n",
       "      <td>24.94</td>\n",
       "      <td>ýNoØ</td>\n",
       "      <td>No</td>\n",
       "      <td>No</td>\n",
       "      <td>0.0</td>\n",
       "      <td>0.0</td>\n",
       "      <td>No</td>\n",
       "      <td>Female</td>\n",
       "      <td>34-30</td>\n",
       "      <td>Other</td>\n",
       "      <td>No</td>\n",
       "      <td>Yes</td>\n",
       "      <td>Very good</td>\n",
       "      <td>8.0</td>\n",
       "      <td>No</td>\n",
       "      <td>No</td>\n",
       "      <td>No</td>\n",
       "      <td>No</td>\n",
       "    </tr>\n",
       "  </tbody>\n",
       "</table>\n",
       "</div>"
      ],
      "text/plain": [
       "                      BMI Smoking AlcoholDrinking Stroke PhysicalHealth  \\\n",
       "Index                                                                     \n",
       "67495               26.97      No              No     No           14.0   \n",
       "67496  243.60000000000002     Yes              No     No           30.0   \n",
       "67497               27.44      No              No     No            0.0   \n",
       "67498               18.88     Yes             Yes     No           14.0   \n",
       "67499               24.94    ýNoØ              No     No            0.0   \n",
       "\n",
       "      MentalHealth DiffWalking     Sex AgeCategory   Race Diabetic  \\\n",
       "Index                                                                \n",
       "67495         14.0          No     NaN       74-70  White       No   \n",
       "67496          0.0          No  Female       79-75  White       No   \n",
       "67497          2.0         Yes  Female       64-60  White       No   \n",
       "67498          2.0          No  Female       69-65  White       No   \n",
       "67499          0.0          No  Female       34-30  Other       No   \n",
       "\n",
       "      PhysicalActivity  GenHealth  SleepTime Asthma KidneyDisease SkinCancer  \\\n",
       "Index                                                                          \n",
       "67495              Yes       Fair        8.0     No            No        Yes   \n",
       "67496               No       Fair        7.0     No            No         No   \n",
       "67497               No       Good        7.0     No            No         No   \n",
       "67498              Yes       Fair        8.0     No            No         No   \n",
       "67499              Yes  Very good        8.0     No            No         No   \n",
       "\n",
       "      HeartDisease  \n",
       "Index               \n",
       "67495           No  \n",
       "67496         ïNo├  \n",
       "67497           No  \n",
       "67498          NaN  \n",
       "67499           No  "
      ]
     },
     "execution_count": 7,
     "metadata": {},
     "output_type": "execute_result"
    }
   ],
   "source": [
    "df_responses.tail()"
   ]
  },
  {
   "cell_type": "markdown",
   "id": "f529a6da-5dfc-4892-b625-7b80d3a82686",
   "metadata": {
    "tags": []
   },
   "source": [
    "## Calidad de los datos"
   ]
  },
  {
   "cell_type": "markdown",
   "id": "1d791aad-55b7-4669-ba38-802c029135cc",
   "metadata": {},
   "source": [
    "### Completitud:"
   ]
  },
  {
   "cell_type": "code",
   "execution_count": 8,
   "id": "905abb49-b99f-4fa7-9a39-40952ba37284",
   "metadata": {},
   "outputs": [
    {
     "data": {
      "text/html": [
       "<div>\n",
       "<style scoped>\n",
       "    .dataframe tbody tr th:only-of-type {\n",
       "        vertical-align: middle;\n",
       "    }\n",
       "\n",
       "    .dataframe tbody tr th {\n",
       "        vertical-align: top;\n",
       "    }\n",
       "\n",
       "    .dataframe thead th {\n",
       "        text-align: right;\n",
       "    }\n",
       "</style>\n",
       "<table border=\"1\" class=\"dataframe\">\n",
       "  <thead>\n",
       "    <tr style=\"text-align: right;\">\n",
       "      <th></th>\n",
       "      <th>0</th>\n",
       "    </tr>\n",
       "  </thead>\n",
       "  <tbody>\n",
       "    <tr>\n",
       "      <th>HeartDisease</th>\n",
       "      <td>8.334815</td>\n",
       "    </tr>\n",
       "    <tr>\n",
       "      <th>Diabetic</th>\n",
       "      <td>2.472593</td>\n",
       "    </tr>\n",
       "    <tr>\n",
       "      <th>Race</th>\n",
       "      <td>2.423704</td>\n",
       "    </tr>\n",
       "    <tr>\n",
       "      <th>Smoking</th>\n",
       "      <td>2.402963</td>\n",
       "    </tr>\n",
       "    <tr>\n",
       "      <th>GenHealth</th>\n",
       "      <td>2.400000</td>\n",
       "    </tr>\n",
       "    <tr>\n",
       "      <th>Sex</th>\n",
       "      <td>2.385185</td>\n",
       "    </tr>\n",
       "    <tr>\n",
       "      <th>Stroke</th>\n",
       "      <td>2.379259</td>\n",
       "    </tr>\n",
       "    <tr>\n",
       "      <th>BMI</th>\n",
       "      <td>1.965926</td>\n",
       "    </tr>\n",
       "    <tr>\n",
       "      <th>PhysicalHealth</th>\n",
       "      <td>0.000000</td>\n",
       "    </tr>\n",
       "    <tr>\n",
       "      <th>MentalHealth</th>\n",
       "      <td>0.000000</td>\n",
       "    </tr>\n",
       "    <tr>\n",
       "      <th>DiffWalking</th>\n",
       "      <td>0.000000</td>\n",
       "    </tr>\n",
       "    <tr>\n",
       "      <th>AgeCategory</th>\n",
       "      <td>0.000000</td>\n",
       "    </tr>\n",
       "    <tr>\n",
       "      <th>AlcoholDrinking</th>\n",
       "      <td>0.000000</td>\n",
       "    </tr>\n",
       "    <tr>\n",
       "      <th>PhysicalActivity</th>\n",
       "      <td>0.000000</td>\n",
       "    </tr>\n",
       "    <tr>\n",
       "      <th>SleepTime</th>\n",
       "      <td>0.000000</td>\n",
       "    </tr>\n",
       "    <tr>\n",
       "      <th>Asthma</th>\n",
       "      <td>0.000000</td>\n",
       "    </tr>\n",
       "    <tr>\n",
       "      <th>KidneyDisease</th>\n",
       "      <td>0.000000</td>\n",
       "    </tr>\n",
       "    <tr>\n",
       "      <th>SkinCancer</th>\n",
       "      <td>0.000000</td>\n",
       "    </tr>\n",
       "  </tbody>\n",
       "</table>\n",
       "</div>"
      ],
      "text/plain": [
       "                         0\n",
       "HeartDisease      8.334815\n",
       "Diabetic          2.472593\n",
       "Race              2.423704\n",
       "Smoking           2.402963\n",
       "GenHealth         2.400000\n",
       "Sex               2.385185\n",
       "Stroke            2.379259\n",
       "BMI               1.965926\n",
       "PhysicalHealth    0.000000\n",
       "MentalHealth      0.000000\n",
       "DiffWalking       0.000000\n",
       "AgeCategory       0.000000\n",
       "AlcoholDrinking   0.000000\n",
       "PhysicalActivity  0.000000\n",
       "SleepTime         0.000000\n",
       "Asthma            0.000000\n",
       "KidneyDisease     0.000000\n",
       "SkinCancer        0.000000"
      ]
     },
     "execution_count": 8,
     "metadata": {},
     "output_type": "execute_result"
    }
   ],
   "source": [
    "# Ver el porcentaje de atributos vacios\n",
    "df_porcentajes = (100*df_responses.isna().sum()/len(df_responses)).to_frame()\n",
    "df_porcentajes.sort_values(0, ascending = False)"
   ]
  },
  {
   "cell_type": "markdown",
   "id": "f7b25ccd-6705-402f-b3a0-e8472394cd27",
   "metadata": {},
   "source": [
    "Vemos entonces que hay 7 columnas que presentan valores nulos en algunos de los registros de los datos."
   ]
  },
  {
   "cell_type": "markdown",
   "id": "9f84bfcc-47da-4aac-8d14-6dd9d8324f11",
   "metadata": {},
   "source": [
    "### Unicidad:"
   ]
  },
  {
   "cell_type": "markdown",
   "id": "ddae6b81-0d57-423c-b8e0-7245e10a6804",
   "metadata": {},
   "source": [
    "Aunque no existe alguna columna que diferencie los registros entre sí, tener registros duplicados debe corresponder a un error, dada la poca probabilidad de que 2 personas tengan los mismos datos personales, hábitos e historial clínico."
   ]
  },
  {
   "cell_type": "code",
   "execution_count": 9,
   "id": "129e19ea-7b74-4d49-ac03-c5658a1fbb71",
   "metadata": {},
   "outputs": [
    {
     "data": {
      "text/plain": [
       "330"
      ]
     },
     "execution_count": 9,
     "metadata": {},
     "output_type": "execute_result"
    }
   ],
   "source": [
    "df_responses.duplicated().sum()"
   ]
  },
  {
   "cell_type": "markdown",
   "id": "cb840978-4b2e-49d0-b385-acf328278327",
   "metadata": {},
   "source": [
    "Vemos entonces que hay 330 registros duplicados en los datos."
   ]
  },
  {
   "cell_type": "markdown",
   "id": "c4a6e1ec-56bf-4dce-a2da-1397dc2c4234",
   "metadata": {},
   "source": [
    "### Consistencia:"
   ]
  },
  {
   "cell_type": "code",
   "execution_count": 10,
   "id": "64107a88-3aaa-4774-88f2-1cc9af69e21c",
   "metadata": {},
   "outputs": [
    {
     "data": {
      "text/plain": [
       "No       51361\n",
       "Yes       4855\n",
       "├No├       366\n",
       "ïNo£       356\n",
       "ÇNoÇ       346\n",
       "├NoÇ       344\n",
       "├Noï       338\n",
       "£NoÇ       331\n",
       "ïNoï       328\n",
       "ÇNoï       326\n",
       "£No£       325\n",
       "ïNoÇ       313\n",
       "ÇNo├       313\n",
       "£Noï       308\n",
       "├No£       307\n",
       "ïNo├       298\n",
       "£No├       296\n",
       "ÇNo£       291\n",
       "ïYesÇ       37\n",
       "ÇYes├       36\n",
       "├Yesï       35\n",
       "ÇYes£       34\n",
       "£Yes├       32\n",
       "ÇYesï       30\n",
       "ïYes£       30\n",
       "£Yes£       29\n",
       "├YesÇ       28\n",
       "├Yes£       28\n",
       "ïYesï       28\n",
       "├Yes├       27\n",
       "ïYes├       27\n",
       "ÇYesÇ       26\n",
       "£Yesï       26\n",
       "£YesÇ       19\n",
       "Name: HeartDisease, dtype: int64"
      ]
     },
     "execution_count": 10,
     "metadata": {},
     "output_type": "execute_result"
    }
   ],
   "source": [
    "df_responses['HeartDisease'].value_counts()"
   ]
  },
  {
   "cell_type": "markdown",
   "id": "eef0bc95-c705-49b3-aed9-13f03c2ccad7",
   "metadata": {},
   "source": [
    "En este caso podemos ver un problema de inconsistencia, dado que tenemos varias maneras de escribir una misma etiqueta o respuesta, y no significa que los datos sean inválidos, sino que es inconsistente la manera en que se digitaron."
   ]
  },
  {
   "cell_type": "markdown",
   "id": "78f998f3-98c0-4fa1-8d67-09dcfcdee926",
   "metadata": {},
   "source": [
    "### Validez:"
   ]
  },
  {
   "cell_type": "markdown",
   "id": "aa24058a-f88c-4ceb-bf94-c37ac441949c",
   "metadata": {},
   "source": [
    "#### Categoricos"
   ]
  },
  {
   "cell_type": "code",
   "execution_count": 11,
   "id": "45ae2862-1a0f-4661-a514-911588210c83",
   "metadata": {},
   "outputs": [
    {
     "data": {
      "text/plain": [
       "69-65          7349\n",
       "64-60          7056\n",
       "74-70          6634\n",
       "59-55          6323\n",
       "54-50          5276\n",
       "or older 80    5119\n",
       "79-75          4560\n",
       "49-45          4552\n",
       "24-18          4448\n",
       "44-40          4387\n",
       "39-35          4330\n",
       "34-30          3958\n",
       "29-25          3508\n",
       "Name: AgeCategory, dtype: int64"
      ]
     },
     "execution_count": 11,
     "metadata": {},
     "output_type": "execute_result"
    }
   ],
   "source": [
    "# Revisamos los valores de la variable categorica: AgeCategory\n",
    "df_responses['AgeCategory'].value_counts()"
   ]
  },
  {
   "cell_type": "markdown",
   "id": "51685f9c-671f-4fd4-bc7d-40b5a433211c",
   "metadata": {},
   "source": [
    "En cuanto a los rangos de edad presentamos un problema importante, y es que la encuesta solo se hacía sobre adultos mayores de 50 años, y como podemos observar hay muchos registros con rangos de edades menores a 50 años."
   ]
  },
  {
   "cell_type": "code",
   "execution_count": 12,
   "id": "82d63530-5173-45df-bafa-d900a6bc0764",
   "metadata": {},
   "outputs": [
    {
     "data": {
      "text/plain": [
       "No      37237\n",
       "Yes     26208\n",
       "k          19\n",
       "r          15\n",
       "m          15\n",
       "        ...  \n",
       "wzto        1\n",
       "jt          1\n",
       "nfc         1\n",
       "pu          1\n",
       "eq          1\n",
       "Name: Smoking, Length: 1107, dtype: int64"
      ]
     },
     "execution_count": 12,
     "metadata": {},
     "output_type": "execute_result"
    }
   ],
   "source": [
    "# Revisamos los valores de la variable categorica: Smoking\n",
    "df_responses['Smoking'].value_counts()"
   ]
  },
  {
   "cell_type": "code",
   "execution_count": 13,
   "id": "e5749696-e14c-407d-8eb8-d998b68cd443",
   "metadata": {},
   "outputs": [
    {
     "data": {
      "text/plain": [
       "No     58544\n",
       "Yes     8956\n",
       "Name: Asthma, dtype: int64"
      ]
     },
     "execution_count": 13,
     "metadata": {},
     "output_type": "execute_result"
    }
   ],
   "source": [
    "# Revisamos los valores de la variable categorica: Asthma\n",
    "df_responses['Asthma'].value_counts()"
   ]
  },
  {
   "cell_type": "code",
   "execution_count": 14,
   "id": "0548f510-c164-4afa-8c3e-2fbf368b0beb",
   "metadata": {},
   "outputs": [
    {
     "data": {
      "text/plain": [
       "No                         53596\n",
       "Yes                         7954\n",
       "No, borderline diabetes     1359\n",
       "Yes (during pregnancy)       488\n",
       "v                             18\n",
       "                           ...  \n",
       "jxxb                           1\n",
       "oek                            1\n",
       "ima                            1\n",
       "eqd                            1\n",
       "mlek                           1\n",
       "Name: Diabetic, Length: 1056, dtype: int64"
      ]
     },
     "execution_count": 14,
     "metadata": {},
     "output_type": "execute_result"
    }
   ],
   "source": [
    "# Revisamos los valores de la variable categorica: Diabetic\n",
    "df_responses['Diabetic'].value_counts()"
   ]
  },
  {
   "cell_type": "markdown",
   "id": "43a42b66-0aba-4c6a-8330-1a5cda1a178e",
   "metadata": {},
   "source": [
    "Con las columnas categóricas pasa algo curioso, y es que en algunas como 'Asthma' todos los registros presentan valores validos (Yes or No), mientras que variables como 'Diabetic' o 'Smoking' a pesar de tener la mayoria de sus registros con valores validos, tiene varios que no cumplen con las posibles respuestas dadas en el glosario, sino que presentan cadenas de caracteres aparentemente aleatorias. "
   ]
  },
  {
   "cell_type": "markdown",
   "id": "3918bd81-d6ef-43ad-be49-87430d9cc6ff",
   "metadata": {},
   "source": [
    "#### Numericos"
   ]
  },
  {
   "cell_type": "code",
   "execution_count": 15,
   "id": "50aef210-d3f7-4ab9-b404-09c3ccaef245",
   "metadata": {},
   "outputs": [
    {
     "data": {
      "text/plain": [
       "<AxesSubplot:xlabel='SleepTime', ylabel='counts'>"
      ]
     },
     "execution_count": 15,
     "metadata": {},
     "output_type": "execute_result"
    },
    {
     "data": {
      "image/png": "[encoded data removed]",
      "text/plain": [
       "<Figure size 432x288 with 1 Axes>"
      ]
     },
     "metadata": {
      "needs_background": "light"
     },
     "output_type": "display_data"
    }
   ],
   "source": [
    "# Revisamos los valores de la variable numérica: SleepTime\n",
    "df_responses['SleepTime'].value_counts().rename_axis('SleepTime').reset_index(name='counts').plot.scatter(x='SleepTime', y='counts')"
   ]
  },
  {
   "cell_type": "markdown",
   "id": "2f4d085f-041b-4864-9504-3936c4185886",
   "metadata": {},
   "source": [
    "Con este diagrama de dispersion se puede observar que hay valores menores a 0 y mayores que 24 para las horas diarias de sueño de una persona, lo cual claramente no tiene sentido. No obstante, el diagrama también nos permite observar que no se repiten mucho estos valores, es decir, hay errores pero por suerte no son muchos."
   ]
  },
  {
   "cell_type": "code",
   "execution_count": 16,
   "id": "b06595f9-f240-4fce-b4cf-5b781d6cd558",
   "metadata": {},
   "outputs": [
    {
     "data": {
      "text/plain": [
       "4044"
      ]
     },
     "execution_count": 16,
     "metadata": {},
     "output_type": "execute_result"
    }
   ],
   "source": [
    "# Calculamos la cantidad de registros con valores menores o iguales a 0, o mayores o iguales a 24\n",
    "df_responses[df_responses['SleepTime'] <= 0]['SleepTime'].value_counts().sum() + df_responses[df_responses['SleepTime'] >= 24]['SleepTime'].value_counts().sum()"
   ]
  },
  {
   "cell_type": "markdown",
   "id": "e953c15b-0ac9-439c-a1fa-f7bd4ce91ec3",
   "metadata": {},
   "source": [
    "Con lo anterior descubrimos que hay exactamente 4044 registros con valores de SleepTime NO válidos"
   ]
  },
  {
   "cell_type": "markdown",
   "id": "802b80fa-be50-4397-8adb-8aaf9b971ca2",
   "metadata": {},
   "source": [
    "#### Cadenas de caracteres numericas"
   ]
  },
  {
   "cell_type": "markdown",
   "id": "b365f6dd-3f3c-4c57-b296-6f161d53202b",
   "metadata": {},
   "source": [
    "En la variable BMI, solo debería existir valores numericos mayores a 1 y menores que 99, sin embargo, existen registros cuyo BMI contiene caracteres además de números, un error a corregir."
   ]
  },
  {
   "cell_type": "code",
   "execution_count": 17,
   "id": "deb4b344-b871-4213-8812-95acc21f668c",
   "metadata": {},
   "outputs": [],
   "source": [
    "# Retiramos esos \"errores\"\n",
    "dfa = df_responses\n",
    "dfa = dfa[np.isfinite(pd.to_numeric(dfa.BMI, errors=\"coerce\"))]\n",
    "# Transformamos los valores a numericos\n",
    "dfa['BMI']=dfa['BMI'].astype(float)"
   ]
  },
  {
   "cell_type": "code",
   "execution_count": 18,
   "id": "ec357cb7-0095-471f-ab1b-4c51a3456b22",
   "metadata": {},
   "outputs": [
    {
     "data": {
      "text/plain": [
       "1370"
      ]
     },
     "execution_count": 18,
     "metadata": {},
     "output_type": "execute_result"
    }
   ],
   "source": [
    "# Calculamos la cantidad de registros con valores menores o iguales a 1, o mayores o iguales a 99\n",
    "dfa[dfa['BMI'] <= 1]['BMI'].value_counts().sum() + dfa[dfa['BMI'] >= 99]['BMI'].value_counts().sum()"
   ]
  },
  {
   "cell_type": "markdown",
   "id": "ef77a34e-8af2-4208-81af-d1ed2d65cf40",
   "metadata": {},
   "source": [
    "Con lo anterior descubrimos que hay exactamente 1370 registros con valores de BMI NO válidos"
   ]
  },
  {
   "cell_type": "markdown",
   "id": "6bc616e4-0762-4af8-aa44-7caf2a07921a",
   "metadata": {},
   "source": [
    "En la variable PhysicalHealth, solo debería existir valores numericos mayores o iguales a 0 y menores o iguales que 30, sin embargo, existen registros cuyo PhysicalHealth contiene caracteres además de números, un error a corregir."
   ]
  },
  {
   "cell_type": "code",
   "execution_count": 19,
   "id": "065a7262-8ef0-4c71-868b-6c6d7cbb14f8",
   "metadata": {},
   "outputs": [],
   "source": [
    "# Retiramos esos \"errores\"\n",
    "dfa = df_responses\n",
    "dfa = dfa[np.isfinite(pd.to_numeric(dfa.PhysicalHealth, errors=\"coerce\"))]\n",
    "# Transformamos los valores a numericos\n",
    "dfa['PhysicalHealth']=dfa['PhysicalHealth'].astype(float)"
   ]
  },
  {
   "cell_type": "code",
   "execution_count": 20,
   "id": "a3759e9d-8baa-44f7-8f5a-b6caf1da5ba1",
   "metadata": {},
   "outputs": [
    {
     "data": {
      "text/plain": [
       "785"
      ]
     },
     "execution_count": 20,
     "metadata": {},
     "output_type": "execute_result"
    }
   ],
   "source": [
    "# Calculamos la cantidad de registros con valores menores a 0, o mayores a 30\n",
    "dfa[dfa['PhysicalHealth'] < 0]['PhysicalHealth'].value_counts().sum() + dfa[dfa['PhysicalHealth'] > 30]['PhysicalHealth'].value_counts().sum()"
   ]
  },
  {
   "cell_type": "markdown",
   "id": "d17d3343-a0ce-4805-8707-6948b286fc53",
   "metadata": {},
   "source": [
    "Con lo anterior descubrimos que hay exactamente 785 registros con valores de PhysicalHealth NO válidos"
   ]
  },
  {
   "cell_type": "markdown",
   "id": "6ae16c00-ac9d-4308-a28c-1719c0ca4142",
   "metadata": {},
   "source": [
    "En la variable MentalHealth, solo debería existir valores numericos mayores o iguales a 0 y menores o iguales que 30, sin embargo, existen registros cuyo MentalHealth contiene caracteres además de números, un error a corregir."
   ]
  },
  {
   "cell_type": "code",
   "execution_count": 21,
   "id": "e1fabd94-b5ee-43fb-8d33-cc8e304fdf4c",
   "metadata": {},
   "outputs": [],
   "source": [
    "# Retiramos esos \"errores\"\n",
    "dfa = df_responses\n",
    "dfa = dfa[np.isfinite(pd.to_numeric(dfa.MentalHealth, errors=\"coerce\"))]\n",
    "# Transformamos los valores a numericos\n",
    "dfa['MentalHealth']=dfa['MentalHealth'].astype(float)"
   ]
  },
  {
   "cell_type": "code",
   "execution_count": 22,
   "id": "b0ae24db-3653-4606-b6b9-013b1d64f160",
   "metadata": {},
   "outputs": [
    {
     "data": {
      "text/plain": [
       "951"
      ]
     },
     "execution_count": 22,
     "metadata": {},
     "output_type": "execute_result"
    }
   ],
   "source": [
    "# Calculamos la cantidad de registros con valores menores a 0, o mayores a 30\n",
    "dfa[dfa['MentalHealth'] < 0]['MentalHealth'].value_counts().sum() + dfa[dfa['MentalHealth'] > 30]['MentalHealth'].value_counts().sum()"
   ]
  },
  {
   "cell_type": "markdown",
   "id": "f76e9480-c367-4ccb-9926-a61c750e6524",
   "metadata": {},
   "source": [
    "Con lo anterior descubrimos que hay exactamente 951 registros con valores de MentalHealth NO válidos"
   ]
  },
  {
   "cell_type": "markdown",
   "id": "cdb9e532-6fa7-47df-abac-fc6bc57cf96a",
   "metadata": {},
   "source": [
    "## Tareas de transformación"
   ]
  },
  {
   "cell_type": "markdown",
   "id": "df7a3eb5-a9d0-4342-849e-6f40b0ade217",
   "metadata": {},
   "source": [
    "Podemos empezar eliminando los duplicados que encontramos en la seccion anterior"
   ]
  },
  {
   "cell_type": "code",
   "execution_count": 23,
   "id": "b749bf3e-bc33-4470-bfcb-0cba5c92379f",
   "metadata": {},
   "outputs": [
    {
     "data": {
      "text/html": [
       "<div>\n",
       "<style scoped>\n",
       "    .dataframe tbody tr th:only-of-type {\n",
       "        vertical-align: middle;\n",
       "    }\n",
       "\n",
       "    .dataframe tbody tr th {\n",
       "        vertical-align: top;\n",
       "    }\n",
       "\n",
       "    .dataframe thead th {\n",
       "        text-align: right;\n",
       "    }\n",
       "</style>\n",
       "<table border=\"1\" class=\"dataframe\">\n",
       "  <thead>\n",
       "    <tr style=\"text-align: right;\">\n",
       "      <th></th>\n",
       "      <th>BMI</th>\n",
       "      <th>Smoking</th>\n",
       "      <th>AlcoholDrinking</th>\n",
       "      <th>Stroke</th>\n",
       "      <th>PhysicalHealth</th>\n",
       "      <th>MentalHealth</th>\n",
       "      <th>DiffWalking</th>\n",
       "      <th>Sex</th>\n",
       "      <th>AgeCategory</th>\n",
       "      <th>Race</th>\n",
       "      <th>Diabetic</th>\n",
       "      <th>PhysicalActivity</th>\n",
       "      <th>GenHealth</th>\n",
       "      <th>SleepTime</th>\n",
       "      <th>Asthma</th>\n",
       "      <th>KidneyDisease</th>\n",
       "      <th>SkinCancer</th>\n",
       "      <th>HeartDisease</th>\n",
       "    </tr>\n",
       "    <tr>\n",
       "      <th>Index</th>\n",
       "      <th></th>\n",
       "      <th></th>\n",
       "      <th></th>\n",
       "      <th></th>\n",
       "      <th></th>\n",
       "      <th></th>\n",
       "      <th></th>\n",
       "      <th></th>\n",
       "      <th></th>\n",
       "      <th></th>\n",
       "      <th></th>\n",
       "      <th></th>\n",
       "      <th></th>\n",
       "      <th></th>\n",
       "      <th></th>\n",
       "      <th></th>\n",
       "      <th></th>\n",
       "      <th></th>\n",
       "    </tr>\n",
       "  </thead>\n",
       "  <tbody>\n",
       "    <tr>\n",
       "      <th>0</th>\n",
       "      <td>26.5</td>\n",
       "      <td>No</td>\n",
       "      <td>No</td>\n",
       "      <td>No</td>\n",
       "      <td>0.0</td>\n",
       "      <td>0.0</td>\n",
       "      <td>No</td>\n",
       "      <td>Male</td>\n",
       "      <td>64-60</td>\n",
       "      <td>White</td>\n",
       "      <td>No</td>\n",
       "      <td>Yes</td>\n",
       "      <td>Very good</td>\n",
       "      <td>8.0</td>\n",
       "      <td>No</td>\n",
       "      <td>No</td>\n",
       "      <td>No</td>\n",
       "      <td>No</td>\n",
       "    </tr>\n",
       "    <tr>\n",
       "      <th>1</th>\n",
       "      <td>28.75</td>\n",
       "      <td>ýNoÚ</td>\n",
       "      <td>No</td>\n",
       "      <td>No</td>\n",
       "      <td>0.0</td>\n",
       "      <td>2.0</td>\n",
       "      <td>No</td>\n",
       "      <td>Male</td>\n",
       "      <td>59-55</td>\n",
       "      <td>White</td>\n",
       "      <td>No</td>\n",
       "      <td>Yes</td>\n",
       "      <td>Very good</td>\n",
       "      <td>7.0</td>\n",
       "      <td>No</td>\n",
       "      <td>No</td>\n",
       "      <td>No</td>\n",
       "      <td>No</td>\n",
       "    </tr>\n",
       "    <tr>\n",
       "      <th>2</th>\n",
       "      <td>19.9</td>\n",
       "      <td>Yes</td>\n",
       "      <td>No</td>\n",
       "      <td>No</td>\n",
       "      <td>0.0</td>\n",
       "      <td>1.0</td>\n",
       "      <td>No</td>\n",
       "      <td>Male</td>\n",
       "      <td>39-35</td>\n",
       "      <td>White</td>\n",
       "      <td>No</td>\n",
       "      <td>Yes</td>\n",
       "      <td>Good</td>\n",
       "      <td>7.0</td>\n",
       "      <td>No</td>\n",
       "      <td>No</td>\n",
       "      <td>No</td>\n",
       "      <td>No</td>\n",
       "    </tr>\n",
       "    <tr>\n",
       "      <th>3</th>\n",
       "      <td>28.06</td>\n",
       "      <td>No</td>\n",
       "      <td>No</td>\n",
       "      <td>No</td>\n",
       "      <td>1.0</td>\n",
       "      <td>1.0</td>\n",
       "      <td>No</td>\n",
       "      <td>Female</td>\n",
       "      <td>69-65</td>\n",
       "      <td>White</td>\n",
       "      <td>Yes</td>\n",
       "      <td>Yes</td>\n",
       "      <td>Good</td>\n",
       "      <td>8.0</td>\n",
       "      <td>No</td>\n",
       "      <td>No</td>\n",
       "      <td>No</td>\n",
       "      <td>£NoÇ</td>\n",
       "    </tr>\n",
       "    <tr>\n",
       "      <th>4</th>\n",
       "      <td>29.29</td>\n",
       "      <td>Yes</td>\n",
       "      <td>No</td>\n",
       "      <td>No</td>\n",
       "      <td>0.0</td>\n",
       "      <td>1.0</td>\n",
       "      <td>No</td>\n",
       "      <td>Female</td>\n",
       "      <td>74-70</td>\n",
       "      <td>White</td>\n",
       "      <td>No</td>\n",
       "      <td>Yes</td>\n",
       "      <td>Very good</td>\n",
       "      <td>7.0</td>\n",
       "      <td>Yes</td>\n",
       "      <td>No</td>\n",
       "      <td>No</td>\n",
       "      <td>No</td>\n",
       "    </tr>\n",
       "  </tbody>\n",
       "</table>\n",
       "</div>"
      ],
      "text/plain": [
       "         BMI Smoking AlcoholDrinking Stroke PhysicalHealth MentalHealth  \\\n",
       "Index                                                                     \n",
       "0       26.5      No              No     No            0.0          0.0   \n",
       "1      28.75    ýNoÚ              No     No            0.0          2.0   \n",
       "2       19.9     Yes              No     No            0.0          1.0   \n",
       "3      28.06      No              No     No            1.0          1.0   \n",
       "4      29.29     Yes              No     No            0.0          1.0   \n",
       "\n",
       "      DiffWalking     Sex AgeCategory   Race Diabetic PhysicalActivity  \\\n",
       "Index                                                                    \n",
       "0              No    Male       64-60  White       No              Yes   \n",
       "1              No    Male       59-55  White       No              Yes   \n",
       "2              No    Male       39-35  White       No              Yes   \n",
       "3              No  Female       69-65  White      Yes              Yes   \n",
       "4              No  Female       74-70  White       No              Yes   \n",
       "\n",
       "       GenHealth  SleepTime Asthma KidneyDisease SkinCancer HeartDisease  \n",
       "Index                                                                     \n",
       "0      Very good        8.0     No            No         No           No  \n",
       "1      Very good        7.0     No            No         No           No  \n",
       "2           Good        7.0     No            No         No           No  \n",
       "3           Good        8.0     No            No         No         £NoÇ  \n",
       "4      Very good        7.0    Yes            No         No           No  "
      ]
     },
     "execution_count": 23,
     "metadata": {},
     "output_type": "execute_result"
    }
   ],
   "source": [
    "df_responses.head()"
   ]
  },
  {
   "cell_type": "code",
   "execution_count": 24,
   "id": "4f3ec153-09d3-46d8-ab34-0e856345bd0c",
   "metadata": {},
   "outputs": [
    {
     "data": {
      "text/plain": [
       "No     61160\n",
       "Yes     6340\n",
       "Name: SkinCancer, dtype: int64"
      ]
     },
     "execution_count": 24,
     "metadata": {},
     "output_type": "execute_result"
    }
   ],
   "source": [
    "df_responses['SkinCancer'].value_counts()"
   ]
  },
  {
   "cell_type": "code",
   "execution_count": 25,
   "id": "7eed5c64-2390-434b-8c57-2b6ece52e4b2",
   "metadata": {},
   "outputs": [
    {
     "data": {
      "text/plain": [
       "0"
      ]
     },
     "execution_count": 25,
     "metadata": {},
     "output_type": "execute_result"
    }
   ],
   "source": [
    "df_responses['SkinCancer'].isnull().sum()"
   ]
  },
  {
   "cell_type": "markdown",
   "id": "b25f0811-13ec-4043-a671-2991134c26bc",
   "metadata": {},
   "source": [
    "| COLUMNAS | CONSISTENCIA | VALIDEZ | COMPLETITUD |\n",
    "| -------- | ------------ | ------- | ----------- |\n",
    "| BMI | Separar caracteres de los números | Eliminar atipicos y corregir con promedio | Llenar nulos con promedio |\n",
    "| Sex | Limpiar categorias de otros caracteres | Eliminar caracteres aleatorios | Llenar nulos con probabilidad de ocurrencia (?)|\n",
    "| AgeCategory | NA | (?) | NA |\n",
    "| Race | Limpiar categorias de otros caracteres | Eliminar caracteres aleatorios | Llenar nulos con probabilidad de ocurrencia (?) |\n",
    "| Smoking  | Limpiar categorias de otros caracteres | Eliminar caracteres aleatorios | Llenar nulos con probabilidad de ocurrencia (?) |\n",
    "| AlcoholDrinking | NA | NA | NA |\n",
    "| PhysicalActivity | NA | NA | NA |\n",
    "| SleepTime | NA | Eliminar atipicos y corregir con promedio | NA |\n",
    "| **HeartDisease** | **Limpiar categorias de otros caracteres** | **NA** | **Eliminar registros nulos** |\n",
    "| Stroke | Limpiar categorias de otros caracteres | Eliminar caracteres aleatorios | Llenar nulos con la moda |\n",
    "| PhysicalHealth | Separar caracteres de los números | Eliminar atipicos y corregir con promedio | NA |\n",
    "| MentalHealth | Separar caracteres de los números | Eliminar atipicos y corregir con promedio | NA |\n",
    "| DiffWalking | NA | NA | NA |\n",
    "| Diabetic | Limpiar categorias de otros caracteres | Eliminar caracteres aleatorios | Llenar nulos con probabilidad de ocurrencia (?)|\n",
    "| GenHealth | Limpiar categorias de otros caracteres | Eliminar caracteres aleatorios | Llenar nulos con probabilidad de ocurrencia (?)|\n",
    "| Asthma | NA | NA | NA |\n",
    "| KidneyDisease | NA | NA | NA |\n",
    "| SkinCancer | NA | NA | NA |"
   ]
  },
  {
   "cell_type": "markdown",
   "id": "908ad616-20f8-4723-8889-652e84b8d9d3",
   "metadata": {},
   "source": [
    "## Preprocesamiento de los datos"
   ]
  },
  {
   "cell_type": "code",
   "execution_count": 26,
   "id": "be8877ac-18c5-4151-8120-4fb19db2f499",
   "metadata": {},
   "outputs": [
    {
     "data": {
      "text/plain": [
       "(67170, 18)"
      ]
     },
     "execution_count": 26,
     "metadata": {},
     "output_type": "execute_result"
    }
   ],
   "source": [
    "# Separamos los datos para hacer limpieza y preparacion\n",
    "df_resp_t = df_responses\n",
    "# Eliminamos duplicados\n",
    "df_resp_t = df_resp_t.drop_duplicates()\n",
    "# Cantidad de datos y número de variables\n",
    "df_resp_t.shape"
   ]
  },
  {
   "cell_type": "code",
   "execution_count": 27,
   "id": "6acbcdc1-9cc5-4326-bae5-34e61e408627",
   "metadata": {},
   "outputs": [
    {
     "data": {
      "text/plain": [
       "(61545, 18)"
      ]
     },
     "execution_count": 27,
     "metadata": {},
     "output_type": "execute_result"
    }
   ],
   "source": [
    "# Eliminamos los registros que tengan la variable objetivo nula (no serán útiles)\n",
    "df_resp_t = df_resp_t.dropna(subset=['HeartDisease'])\n",
    "# Cantidad de datos y número de variables\n",
    "df_resp_t.shape"
   ]
  },
  {
   "cell_type": "markdown",
   "id": "0c3c58b9-58a0-4c0b-b242-50db8f1079dc",
   "metadata": {},
   "source": [
    "##### Separar caracteres de los números: BMI, PhysicalHealth, MentalHealth"
   ]
  },
  {
   "cell_type": "code",
   "execution_count": 28,
   "id": "21d29350-95ec-47e1-8360-fcac3b69368d",
   "metadata": {},
   "outputs": [],
   "source": [
    "# Separar caracteres de los números: BMI, PhysicalHealth, MentalHealth\n",
    "df_resp_t['BMI'] = df_resp_t['BMI'].str.extract('(\\d+)', expand=False)\n",
    "df_resp_t['PhysicalHealth'] = df_resp_t['PhysicalHealth'].str.extract('(\\d+)', expand=False)\n",
    "df_resp_t['MentalHealth'] = df_resp_t['MentalHealth'].str.extract('(\\d+)', expand=False)\n",
    "# Transformar a numeros los datos\n",
    "df_resp_t['BMI'] = df_resp_t['BMI'].astype(float)\n",
    "df_resp_t['PhysicalHealth'] = df_resp_t['PhysicalHealth'].astype(float)\n",
    "df_resp_t['MentalHealth'] = df_resp_t['MentalHealth'].astype(float)"
   ]
  },
  {
   "cell_type": "markdown",
   "id": "11cd1e1a-5d86-461d-8baa-39ea9d0ab6cb",
   "metadata": {},
   "source": [
    "##### Eliminar atipicos y corregir con promedio: BMI, SleepTime, PhysicalHealth, MentalHealth"
   ]
  },
  {
   "cell_type": "code",
   "execution_count": 29,
   "id": "0445423b-9f7a-4c44-acde-c199d3c89095",
   "metadata": {},
   "outputs": [],
   "source": [
    "# Volver nulos valores atipicos: BMI <= 1 and BMI >= 99\n",
    "df_resp_t['BMI'] = df_resp_t['BMI'].mask(df_resp_t['BMI'] <= 1)\n",
    "df_resp_t['BMI'] = df_resp_t['BMI'].mask(df_resp_t['BMI'] >= 99)\n",
    "# Volver nulos valores atipicos: SleepTime <= 0 and SleepTime > 24\n",
    "df_resp_t['SleepTime'] = df_resp_t['SleepTime'].mask(df_resp_t['SleepTime'] <= 0)\n",
    "df_resp_t['SleepTime'] = df_resp_t['SleepTime'].mask(df_resp_t['SleepTime'] > 24)\n",
    "# Volver nulos valores atipicos: PhysicalHealth < 0 and PhysicalHealth > 30\n",
    "df_resp_t['PhysicalHealth'] = df_resp_t['PhysicalHealth'].mask(df_resp_t['PhysicalHealth'] < 0)\n",
    "df_resp_t['PhysicalHealth'] = df_resp_t['PhysicalHealth'].mask(df_resp_t['PhysicalHealth'] > 30)\n",
    "# Volver nulos valores atipicos: MentalHealth < 0 and MentalHealth > 30\n",
    "df_resp_t['MentalHealth'] = df_resp_t['MentalHealth'].mask(df_resp_t['MentalHealth'] < 0)\n",
    "df_resp_t['MentalHealth'] = df_resp_t['MentalHealth'].mask(df_resp_t['MentalHealth'] > 30)\n",
    "# Llenar nulos con promedio\n",
    "mean_bmi = df_resp_t['BMI'].mean()\n",
    "mean_st = df_resp_t['SleepTime'].mean()\n",
    "mean_ph = df_resp_t['PhysicalHealth'].mean()\n",
    "mean_mh = df_resp_t['MentalHealth'].mean()\n",
    "\n",
    "df_resp_t['BMI'].fillna(value=mean_bmi, inplace = True)\n",
    "df_resp_t['SleepTime'].fillna(value=mean_st, inplace = True)\n",
    "df_resp_t['PhysicalHealth'].fillna(value=mean_ph, inplace = True)\n",
    "df_resp_t['MentalHealth'].fillna(value=mean_mh, inplace = True)"
   ]
  },
  {
   "cell_type": "markdown",
   "id": "afad14b4-4d54-4ce2-9a62-a6f2bce1bfdb",
   "metadata": {},
   "source": [
    "##### Limpiar categorias de otros caracteres: Sex, Race, Smoking, HeartDisease, Stroke, Diabetic, GenHealth"
   ]
  },
  {
   "cell_type": "markdown",
   "id": "64032daa-f3db-4397-abd5-7f1ba0573f42",
   "metadata": {},
   "source": [
    "Cambios para Sex"
   ]
  },
  {
   "cell_type": "code",
   "execution_count": 30,
   "id": "51621a56-fb9b-4879-bd0b-e91ca7e803c0",
   "metadata": {},
   "outputs": [],
   "source": [
    "# Se limpian las categorias que están bien pero tienen caracteres extras que la \"ensucian\". Ejemplo: ØFemaleÓ\n",
    "sexes = ['F', 'M']\n",
    "for sex in sexes:\n",
    "    df_resp_t.loc[df_resp_t['Sex'].str.contains(sex, na=False, flags=re.IGNORECASE), 'Sex'] = sex\n",
    "# Volver nulos aquellos valores que no pertenencen a ninguna categoria valida\n",
    "df_resp_t['Sex'] = df_resp_t['Sex'].mask(~df_resp_t['Sex'].isin(sexes))\n",
    "# Reemplazar los nulos\n",
    "nullSex = df_resp_t['Sex'].isnull().values\n",
    "u, c = np.unique(df_resp_t['Sex'].values[~nullSex], return_counts=1)\n",
    "df_resp_t.loc[df_resp_t['Sex'].isnull(), 'Sex'] = np.random.choice(u, nullSex.sum(), p=c / c.sum())\n",
    "# Cambiar de F a Female y de M a Male\n",
    "df_resp_t['Sex'].replace('F','Female', inplace=True)\n",
    "df_resp_t['Sex'].replace('M','Male', inplace=True)"
   ]
  },
  {
   "cell_type": "code",
   "execution_count": 31,
   "id": "79694cc5-a75d-44bb-948a-aaf827db5b10",
   "metadata": {},
   "outputs": [
    {
     "data": {
      "text/plain": [
       "Female    32469\n",
       "Male      29076\n",
       "Name: Sex, dtype: int64"
      ]
     },
     "execution_count": 31,
     "metadata": {},
     "output_type": "execute_result"
    }
   ],
   "source": [
    "df_resp_t['Sex'].value_counts()"
   ]
  },
  {
   "cell_type": "markdown",
   "id": "d85eb730-82a5-40e7-9c95-34bfa2dc695a",
   "metadata": {},
   "source": [
    "Cambios para Race"
   ]
  },
  {
   "cell_type": "code",
   "execution_count": 32,
   "id": "0b7cfbbb-93a9-4392-988d-75eced08190d",
   "metadata": {},
   "outputs": [],
   "source": [
    "# Reemplazamos nulos para hacer el paso siguente\n",
    "df_resp_t['Race'].fillna(value='inv', inplace = True)\n",
    "# Se limpian las categorias que están bien pero tienen caracteres extras que la \"ensucian\". Ejemplo: ØAsianÓ\n",
    "races = ['Asian', 'Black', 'Hispanic', 'Other', 'White']\n",
    "for race in races:\n",
    "    df_resp_t.loc[df_resp_t['Race'].str.contains(race, na=False, flags=re.IGNORECASE), 'Race'] = race\n",
    "# Volver nulos aquellos valores que no pertenencen a ninguna categoria valida\n",
    "df_resp_t['Race'] = df_resp_t['Race'].mask(~df_resp_t['Race'].isin(races))\n",
    "# Reemplazar los nulos\n",
    "nullRace = df_resp_t['Race'].isnull().values\n",
    "u, c = np.unique(df_resp_t['Race'].values[~nullRace], return_counts=1)\n",
    "df_resp_t.loc[df_resp_t['Race'].isnull(), 'Race'] = np.random.choice(u, nullRace.sum(), p=c / c.sum())"
   ]
  },
  {
   "cell_type": "code",
   "execution_count": 33,
   "id": "ae6d2167-1625-426c-8a79-2b7d490fd21d",
   "metadata": {},
   "outputs": [
    {
     "data": {
      "text/plain": [
       "White       48061\n",
       "Hispanic     5210\n",
       "Black        4539\n",
       "Other        2122\n",
       "Asian        1613\n",
       "Name: Race, dtype: int64"
      ]
     },
     "execution_count": 33,
     "metadata": {},
     "output_type": "execute_result"
    }
   ],
   "source": [
    "df_resp_t['Race'].value_counts()"
   ]
  },
  {
   "cell_type": "markdown",
   "id": "c0f43036-9e1b-476d-8784-8106a98761dc",
   "metadata": {},
   "source": [
    "Cambios para Smoking"
   ]
  },
  {
   "cell_type": "code",
   "execution_count": 34,
   "id": "64b462bf-3486-4c12-adf6-1b3a7026fe78",
   "metadata": {},
   "outputs": [],
   "source": [
    "# Se limpian las categorias que están bien pero tienen caracteres extras que la \"ensucian\". Ejemplo: ØYesÓ\n",
    "options = ['Yes', 'No']\n",
    "for option in options:\n",
    "    df_resp_t.loc[df_resp_t['Smoking'].str.contains(option, na=False, flags=re.IGNORECASE), 'Smoking'] = option\n",
    "# Volver nulos aquellos valores que no pertenencen a ninguna categoria valida\n",
    "df_resp_t['Smoking'] = df_resp_t['Smoking'].mask(~df_resp_t['Smoking'].isin(options))\n",
    "# Reemplazar los nulos\n",
    "nullSmoking = df_resp_t['Smoking'].isnull().values\n",
    "u, c = np.unique(df_resp_t['Smoking'].values[~nullSmoking], return_counts=1)\n",
    "df_resp_t.loc[df_resp_t['Smoking'].isnull(), 'Smoking'] = np.random.choice(u, nullSmoking.sum(), p=c / c.sum())"
   ]
  },
  {
   "cell_type": "code",
   "execution_count": 35,
   "id": "39306f90-9046-46f9-be59-5dbc1badbf92",
   "metadata": {},
   "outputs": [
    {
     "data": {
      "text/plain": [
       "No     36052\n",
       "Yes    25493\n",
       "Name: Smoking, dtype: int64"
      ]
     },
     "execution_count": 35,
     "metadata": {},
     "output_type": "execute_result"
    }
   ],
   "source": [
    "df_resp_t['Smoking'].value_counts()"
   ]
  },
  {
   "cell_type": "markdown",
   "id": "0bc8668a-de3e-4672-b00a-ead742944276",
   "metadata": {},
   "source": [
    "Cambios para Stroke"
   ]
  },
  {
   "cell_type": "code",
   "execution_count": 36,
   "id": "09ea05be-71f3-494d-8c76-1cec26099491",
   "metadata": {},
   "outputs": [],
   "source": [
    "# Se limpian las categorias que están bien pero tienen caracteres extras que la \"ensucian\". Ejemplo: ØYesÓ\n",
    "options = ['Yes', 'No']\n",
    "for option in options:\n",
    "    df_resp_t.loc[df_resp_t['Stroke'].str.contains(option, na=False, flags=re.IGNORECASE), 'Stroke'] = option\n",
    "# Volver nulos aquellos valores que no pertenencen a ninguna categoria valida\n",
    "df_resp_t['Stroke'] = df_resp_t['Stroke'].mask(~df_resp_t['Stroke'].isin(options))\n",
    "# Reemplazar los nulos con la moda\n",
    "df_resp_t['Stroke'].fillna(value=df_resp_t['Stroke'].mode()[0], inplace=True)"
   ]
  },
  {
   "cell_type": "code",
   "execution_count": 37,
   "id": "25c81189-e776-4a77-8514-7af8c114b279",
   "metadata": {},
   "outputs": [
    {
     "data": {
      "text/plain": [
       "No     59302\n",
       "Yes     2243\n",
       "Name: Stroke, dtype: int64"
      ]
     },
     "execution_count": 37,
     "metadata": {},
     "output_type": "execute_result"
    }
   ],
   "source": [
    "df_resp_t['Stroke'].value_counts()"
   ]
  },
  {
   "cell_type": "markdown",
   "id": "7e5f18e0-4361-4ac3-acfd-41ed334703dc",
   "metadata": {},
   "source": [
    "Cambios para Diabetic"
   ]
  },
  {
   "cell_type": "code",
   "execution_count": 38,
   "id": "7a3b5929-6eda-4567-89be-5cdf49ec400b",
   "metadata": {},
   "outputs": [],
   "source": [
    "doptions = ['pregnancy', 'borderline', 'Yes', 'No']\n",
    "# Se limpian las categorias que están bien pero tienen caracteres extras que la \"ensucian\". Ejemplo: ØYesÓ\n",
    "for doption in doptions:\n",
    "    df_resp_t.loc[df_resp_t['Diabetic'].str.replace(\" \",\"\").str.contains(doption.replace(\" \",\"\"), na=False, flags=re.IGNORECASE), 'Diabetic'] = doption\n",
    "# Volver nulos aquellos valores que no pertenencen a ninguna categoria valida\n",
    "df_resp_t['Diabetic'] = df_resp_t['Diabetic'].mask(~df_resp_t['Diabetic'].isin(doptions))\n",
    "# Reemplazar los nulos\n",
    "nullDiabetic = df_resp_t['Diabetic'].isnull().values\n",
    "u, c = np.unique(df_resp_t['Diabetic'].values[~nullDiabetic], return_counts=1)\n",
    "df_resp_t.loc[df_resp_t['Diabetic'].isnull(), 'Diabetic'] = np.random.choice(u, nullDiabetic.sum(), p=c / c.sum())\n",
    "# Cambiar de borderline a No, borderline diabetes y de pregnancy a Yes (during pregnancy)\n",
    "df_resp_t['Diabetic'].replace('borderline','No, borderline diabetes', inplace=True)\n",
    "df_resp_t['Diabetic'].replace('pregnancy','Yes (during pregnancy)', inplace=True)"
   ]
  },
  {
   "cell_type": "code",
   "execution_count": 39,
   "id": "9f0c8d5f-8f14-4fa5-812d-e9087c44e7eb",
   "metadata": {},
   "outputs": [
    {
     "data": {
      "text/plain": [
       "No                         51933\n",
       "Yes                         7801\n",
       "No, borderline diabetes     1325\n",
       "Yes (during pregnancy)       486\n",
       "Name: Diabetic, dtype: int64"
      ]
     },
     "execution_count": 39,
     "metadata": {},
     "output_type": "execute_result"
    }
   ],
   "source": [
    "df_resp_t['Diabetic'].value_counts()"
   ]
  },
  {
   "cell_type": "markdown",
   "id": "69dfdb0e-4a17-4592-b8f4-c079371e8ce4",
   "metadata": {},
   "source": [
    "Cambios para GenHealth"
   ]
  },
  {
   "cell_type": "code",
   "execution_count": 40,
   "id": "17c317f7-c1d6-4e7b-a0bf-9eebd19cad6a",
   "metadata": {},
   "outputs": [],
   "source": [
    "ghoptions = ['VeryG','Good','Excellent','Fair','Poor']\n",
    "# Se limpian las categorias que están bien pero tienen caracteres extras que la \"ensucian\". Ejemplo: ØPoorÓ\n",
    "for ghoption in ghoptions:\n",
    "    df_resp_t.loc[df_resp_t['GenHealth'].str.replace(\" \",\"\").str.contains(ghoption.replace(\" \",\"\"), na=False, flags=re.IGNORECASE), 'GenHealth'] = ghoption\n",
    "# Volver nulos aquellos valores que no pertenencen a ninguna categoria valida\n",
    "df_resp_t['GenHealth'] = df_resp_t['GenHealth'].mask(~df_resp_t['GenHealth'].isin(ghoptions))\n",
    "# Reemplazar los nulos\n",
    "nullGHealth = df_resp_t['GenHealth'].isnull().values\n",
    "u, c = np.unique(df_resp_t['GenHealth'].values[~nullGHealth], return_counts=1)\n",
    "df_resp_t.loc[df_resp_t['GenHealth'].isnull(), 'GenHealth'] = np.random.choice(u, nullGHealth.sum(), p=c / c.sum())\n",
    "# Cambiar de VeryG a Very good\n",
    "df_resp_t['GenHealth'].replace('VeryG','Very good', inplace=True)"
   ]
  },
  {
   "cell_type": "code",
   "execution_count": 41,
   "id": "673b3d77-38ed-4550-802a-367ca4c93165",
   "metadata": {},
   "outputs": [
    {
     "data": {
      "text/plain": [
       "Very good    21769\n",
       "Good         18036\n",
       "Excellent    12800\n",
       "Fair          6739\n",
       "Poor          2201\n",
       "Name: GenHealth, dtype: int64"
      ]
     },
     "execution_count": 41,
     "metadata": {},
     "output_type": "execute_result"
    }
   ],
   "source": [
    "df_resp_t['GenHealth'].value_counts()"
   ]
  },
  {
   "cell_type": "markdown",
   "id": "43ff5d9c-a77b-4196-ab92-30c9dc2c8bdb",
   "metadata": {},
   "source": [
    "Cambios para HeartDisease"
   ]
  },
  {
   "cell_type": "code",
   "execution_count": 42,
   "id": "61a4b718-2e2b-4564-97bd-1f40cb18c93c",
   "metadata": {},
   "outputs": [],
   "source": [
    "# Se limpian las categorias que están bien pero tienen caracteres extras que la \"ensucian\". Ejemplo: £Yesï\n",
    "options = ['Yes', 'No']\n",
    "for option in options:\n",
    "    df_resp_t.loc[df_resp_t['HeartDisease'].str.contains(option, na=False, flags=re.IGNORECASE), 'HeartDisease'] = option"
   ]
  },
  {
   "cell_type": "code",
   "execution_count": 43,
   "id": "51b62363-15b1-496f-8fbf-0c8d793b73c3",
   "metadata": {},
   "outputs": [
    {
     "data": {
      "text/plain": [
       "No     56222\n",
       "Yes     5323\n",
       "Name: HeartDisease, dtype: int64"
      ]
     },
     "execution_count": 43,
     "metadata": {},
     "output_type": "execute_result"
    }
   ],
   "source": [
    "df_resp_t['HeartDisease'].value_counts()"
   ]
  },
  {
   "cell_type": "markdown",
   "id": "3e764283-9dd9-4490-a818-69297b3b840a",
   "metadata": {},
   "source": [
    "## Resultados preparados"
   ]
  },
  {
   "cell_type": "code",
   "execution_count": 44,
   "id": "e8a29e2e-1c23-4758-808d-1559cade3975",
   "metadata": {},
   "outputs": [
    {
     "data": {
      "text/plain": [
       "(61545, 18)"
      ]
     },
     "execution_count": 44,
     "metadata": {},
     "output_type": "execute_result"
    }
   ],
   "source": [
    "df_resp_t.shape"
   ]
  },
  {
   "cell_type": "code",
   "execution_count": 45,
   "id": "0b5a0837-b10a-4390-9fe0-2a96ddcf4ab2",
   "metadata": {},
   "outputs": [
    {
     "data": {
      "text/plain": [
       "BMI                 float64\n",
       "Smoking              object\n",
       "AlcoholDrinking      object\n",
       "Stroke               object\n",
       "PhysicalHealth      float64\n",
       "MentalHealth        float64\n",
       "DiffWalking          object\n",
       "Sex                  object\n",
       "AgeCategory          object\n",
       "Race                 object\n",
       "Diabetic             object\n",
       "PhysicalActivity     object\n",
       "GenHealth            object\n",
       "SleepTime           float64\n",
       "Asthma               object\n",
       "KidneyDisease        object\n",
       "SkinCancer           object\n",
       "HeartDisease         object\n",
       "dtype: object"
      ]
     },
     "execution_count": 45,
     "metadata": {},
     "output_type": "execute_result"
    }
   ],
   "source": [
    "df_resp_t.dtypes"
   ]
  },
  {
   "cell_type": "code",
   "execution_count": 48,
   "id": "882f422a-1472-48ea-bd2a-c15a9d54bc9d",
   "metadata": {},
   "outputs": [],
   "source": [
    "def yesno (col,row):\n",
    "    val = row[col]\n",
    "    if val == 'Yes' :\n",
    "        return 1\n",
    "    return 0\n",
    "\n",
    "\n",
    "df_resp_t['Smoking']=df_resp_t.apply (lambda row: yesno('Smoking',row), axis=1)  \n",
    "df_resp_t['AlcoholDrinking']=df_resp_t.apply (lambda row: yesno('AlcoholDrinking',row), axis=1)  \n",
    "df_resp_t['Stroke']=df_resp_t.apply (lambda row: yesno('Stroke',row), axis=1)  \n",
    "df_resp_t['DiffWalking']=df_resp_t.apply (lambda row: yesno('DiffWalking',row), axis=1)  \n",
    "df_resp_t['PhysicalActivity']=df_resp_t.apply (lambda row: yesno('PhysicalActivity',row), axis=1)  \n",
    "\n",
    "df_resp_t['Asthma']=df_resp_t.apply (lambda row: yesno('Asthma',row), axis=1)  \n",
    "df_resp_t['KidneyDisease']=df_resp_t.apply (lambda row: yesno('KidneyDisease',row), axis=1)  \n",
    "df_resp_t['SkinCancer']=df_resp_t.apply (lambda row: yesno('SkinCancer',row), axis=1)  \n",
    "df_resp_t['HeartDisease']=df_resp_t.apply (lambda row: yesno('HeartDisease',row), axis=1)  \n",
    "\n",
    "\n",
    "df_resp_l = df_resp_t.copy()\n",
    "le = preprocessing.LabelEncoder()\n",
    "df_resp_t['Race']= le.fit_transform(df_resp_l['Race'])\n",
    "df_resp_t['Sex']= le.fit_transform(df_resp_l['Sex'])\n",
    "df_resp_t['GenHealth']=le.fit_transform(df_resp_l['GenHealth'])\n",
    "df_resp_t['AgeCategory'] = le.fit_transform(df_resp_l['AgeCategory'])\n",
    "df_resp_t['Diabetic'] = le.fit_transform(df_resp_l['Diabetic'])"
   ]
  },
  {
   "cell_type": "code",
   "execution_count": 49,
   "id": "07e8f636-8716-468f-83de-025e6b31a33f",
   "metadata": {},
   "outputs": [
    {
     "data": {
      "text/html": [
       "<div>\n",
       "<style scoped>\n",
       "    .dataframe tbody tr th:only-of-type {\n",
       "        vertical-align: middle;\n",
       "    }\n",
       "\n",
       "    .dataframe tbody tr th {\n",
       "        vertical-align: top;\n",
       "    }\n",
       "\n",
       "    .dataframe thead th {\n",
       "        text-align: right;\n",
       "    }\n",
       "</style>\n",
       "<table border=\"1\" class=\"dataframe\">\n",
       "  <thead>\n",
       "    <tr style=\"text-align: right;\">\n",
       "      <th></th>\n",
       "      <th>BMI</th>\n",
       "      <th>Smoking</th>\n",
       "      <th>AlcoholDrinking</th>\n",
       "      <th>Stroke</th>\n",
       "      <th>PhysicalHealth</th>\n",
       "      <th>MentalHealth</th>\n",
       "      <th>DiffWalking</th>\n",
       "      <th>Sex</th>\n",
       "      <th>AgeCategory</th>\n",
       "      <th>Race</th>\n",
       "      <th>Diabetic</th>\n",
       "      <th>PhysicalActivity</th>\n",
       "      <th>GenHealth</th>\n",
       "      <th>SleepTime</th>\n",
       "      <th>Asthma</th>\n",
       "      <th>KidneyDisease</th>\n",
       "      <th>SkinCancer</th>\n",
       "      <th>HeartDisease</th>\n",
       "    </tr>\n",
       "    <tr>\n",
       "      <th>Index</th>\n",
       "      <th></th>\n",
       "      <th></th>\n",
       "      <th></th>\n",
       "      <th></th>\n",
       "      <th></th>\n",
       "      <th></th>\n",
       "      <th></th>\n",
       "      <th></th>\n",
       "      <th></th>\n",
       "      <th></th>\n",
       "      <th></th>\n",
       "      <th></th>\n",
       "      <th></th>\n",
       "      <th></th>\n",
       "      <th></th>\n",
       "      <th></th>\n",
       "      <th></th>\n",
       "      <th></th>\n",
       "    </tr>\n",
       "  </thead>\n",
       "  <tbody>\n",
       "    <tr>\n",
       "      <th>0</th>\n",
       "      <td>26.0</td>\n",
       "      <td>0</td>\n",
       "      <td>0</td>\n",
       "      <td>0</td>\n",
       "      <td>0.0</td>\n",
       "      <td>0.0</td>\n",
       "      <td>0</td>\n",
       "      <td>1</td>\n",
       "      <td>8</td>\n",
       "      <td>4</td>\n",
       "      <td>0</td>\n",
       "      <td>1</td>\n",
       "      <td>4</td>\n",
       "      <td>8.0</td>\n",
       "      <td>0</td>\n",
       "      <td>0</td>\n",
       "      <td>0</td>\n",
       "      <td>0</td>\n",
       "    </tr>\n",
       "    <tr>\n",
       "      <th>1</th>\n",
       "      <td>28.0</td>\n",
       "      <td>0</td>\n",
       "      <td>0</td>\n",
       "      <td>0</td>\n",
       "      <td>0.0</td>\n",
       "      <td>2.0</td>\n",
       "      <td>0</td>\n",
       "      <td>1</td>\n",
       "      <td>7</td>\n",
       "      <td>4</td>\n",
       "      <td>0</td>\n",
       "      <td>1</td>\n",
       "      <td>4</td>\n",
       "      <td>7.0</td>\n",
       "      <td>0</td>\n",
       "      <td>0</td>\n",
       "      <td>0</td>\n",
       "      <td>0</td>\n",
       "    </tr>\n",
       "    <tr>\n",
       "      <th>2</th>\n",
       "      <td>19.0</td>\n",
       "      <td>0</td>\n",
       "      <td>0</td>\n",
       "      <td>0</td>\n",
       "      <td>0.0</td>\n",
       "      <td>1.0</td>\n",
       "      <td>0</td>\n",
       "      <td>1</td>\n",
       "      <td>3</td>\n",
       "      <td>4</td>\n",
       "      <td>0</td>\n",
       "      <td>1</td>\n",
       "      <td>2</td>\n",
       "      <td>7.0</td>\n",
       "      <td>0</td>\n",
       "      <td>0</td>\n",
       "      <td>0</td>\n",
       "      <td>0</td>\n",
       "    </tr>\n",
       "    <tr>\n",
       "      <th>3</th>\n",
       "      <td>28.0</td>\n",
       "      <td>0</td>\n",
       "      <td>0</td>\n",
       "      <td>0</td>\n",
       "      <td>1.0</td>\n",
       "      <td>1.0</td>\n",
       "      <td>0</td>\n",
       "      <td>0</td>\n",
       "      <td>9</td>\n",
       "      <td>4</td>\n",
       "      <td>2</td>\n",
       "      <td>1</td>\n",
       "      <td>2</td>\n",
       "      <td>8.0</td>\n",
       "      <td>0</td>\n",
       "      <td>0</td>\n",
       "      <td>0</td>\n",
       "      <td>0</td>\n",
       "    </tr>\n",
       "    <tr>\n",
       "      <th>4</th>\n",
       "      <td>29.0</td>\n",
       "      <td>0</td>\n",
       "      <td>0</td>\n",
       "      <td>0</td>\n",
       "      <td>0.0</td>\n",
       "      <td>1.0</td>\n",
       "      <td>0</td>\n",
       "      <td>0</td>\n",
       "      <td>10</td>\n",
       "      <td>4</td>\n",
       "      <td>0</td>\n",
       "      <td>1</td>\n",
       "      <td>4</td>\n",
       "      <td>7.0</td>\n",
       "      <td>1</td>\n",
       "      <td>0</td>\n",
       "      <td>0</td>\n",
       "      <td>0</td>\n",
       "    </tr>\n",
       "  </tbody>\n",
       "</table>\n",
       "</div>"
      ],
      "text/plain": [
       "        BMI  Smoking  AlcoholDrinking  Stroke  PhysicalHealth  MentalHealth  \\\n",
       "Index                                                                         \n",
       "0      26.0        0                0       0             0.0           0.0   \n",
       "1      28.0        0                0       0             0.0           2.0   \n",
       "2      19.0        0                0       0             0.0           1.0   \n",
       "3      28.0        0                0       0             1.0           1.0   \n",
       "4      29.0        0                0       0             0.0           1.0   \n",
       "\n",
       "       DiffWalking  Sex  AgeCategory  Race  Diabetic  PhysicalActivity  \\\n",
       "Index                                                                    \n",
       "0                0    1            8     4         0                 1   \n",
       "1                0    1            7     4         0                 1   \n",
       "2                0    1            3     4         0                 1   \n",
       "3                0    0            9     4         2                 1   \n",
       "4                0    0           10     4         0                 1   \n",
       "\n",
       "       GenHealth  SleepTime  Asthma  KidneyDisease  SkinCancer  HeartDisease  \n",
       "Index                                                                         \n",
       "0              4        8.0       0              0           0             0  \n",
       "1              4        7.0       0              0           0             0  \n",
       "2              2        7.0       0              0           0             0  \n",
       "3              2        8.0       0              0           0             0  \n",
       "4              4        7.0       1              0           0             0  "
      ]
     },
     "execution_count": 49,
     "metadata": {},
     "output_type": "execute_result"
    }
   ],
   "source": [
    "df_resp_t.head(5)"
   ]
  },
  {
   "cell_type": "code",
   "execution_count": 50,
   "id": "37007d48-4e41-44a4-8d4f-f58a5ce270ae",
   "metadata": {},
   "outputs": [
    {
     "data": {
      "text/html": [
       "<div>\n",
       "<style scoped>\n",
       "    .dataframe tbody tr th:only-of-type {\n",
       "        vertical-align: middle;\n",
       "    }\n",
       "\n",
       "    .dataframe tbody tr th {\n",
       "        vertical-align: top;\n",
       "    }\n",
       "\n",
       "    .dataframe thead th {\n",
       "        text-align: right;\n",
       "    }\n",
       "</style>\n",
       "<table border=\"1\" class=\"dataframe\">\n",
       "  <thead>\n",
       "    <tr style=\"text-align: right;\">\n",
       "      <th></th>\n",
       "      <th>BMI</th>\n",
       "      <th>Smoking</th>\n",
       "      <th>AlcoholDrinking</th>\n",
       "      <th>Stroke</th>\n",
       "      <th>PhysicalHealth</th>\n",
       "      <th>MentalHealth</th>\n",
       "      <th>DiffWalking</th>\n",
       "      <th>Sex</th>\n",
       "      <th>AgeCategory</th>\n",
       "      <th>Race</th>\n",
       "      <th>Diabetic</th>\n",
       "      <th>PhysicalActivity</th>\n",
       "      <th>GenHealth</th>\n",
       "      <th>SleepTime</th>\n",
       "      <th>Asthma</th>\n",
       "      <th>KidneyDisease</th>\n",
       "      <th>SkinCancer</th>\n",
       "      <th>HeartDisease</th>\n",
       "    </tr>\n",
       "    <tr>\n",
       "      <th>Index</th>\n",
       "      <th></th>\n",
       "      <th></th>\n",
       "      <th></th>\n",
       "      <th></th>\n",
       "      <th></th>\n",
       "      <th></th>\n",
       "      <th></th>\n",
       "      <th></th>\n",
       "      <th></th>\n",
       "      <th></th>\n",
       "      <th></th>\n",
       "      <th></th>\n",
       "      <th></th>\n",
       "      <th></th>\n",
       "      <th></th>\n",
       "      <th></th>\n",
       "      <th></th>\n",
       "      <th></th>\n",
       "    </tr>\n",
       "  </thead>\n",
       "  <tbody>\n",
       "    <tr>\n",
       "      <th>35836</th>\n",
       "      <td>27.0</td>\n",
       "      <td>0</td>\n",
       "      <td>0</td>\n",
       "      <td>0</td>\n",
       "      <td>21.000000</td>\n",
       "      <td>0.0</td>\n",
       "      <td>0</td>\n",
       "      <td>0</td>\n",
       "      <td>4</td>\n",
       "      <td>2</td>\n",
       "      <td>0</td>\n",
       "      <td>0</td>\n",
       "      <td>0</td>\n",
       "      <td>4.0</td>\n",
       "      <td>0</td>\n",
       "      <td>0</td>\n",
       "      <td>0</td>\n",
       "      <td>0</td>\n",
       "    </tr>\n",
       "    <tr>\n",
       "      <th>62368</th>\n",
       "      <td>29.0</td>\n",
       "      <td>0</td>\n",
       "      <td>0</td>\n",
       "      <td>0</td>\n",
       "      <td>20.000000</td>\n",
       "      <td>0.0</td>\n",
       "      <td>0</td>\n",
       "      <td>1</td>\n",
       "      <td>10</td>\n",
       "      <td>4</td>\n",
       "      <td>2</td>\n",
       "      <td>0</td>\n",
       "      <td>1</td>\n",
       "      <td>8.0</td>\n",
       "      <td>0</td>\n",
       "      <td>0</td>\n",
       "      <td>0</td>\n",
       "      <td>1</td>\n",
       "    </tr>\n",
       "    <tr>\n",
       "      <th>10349</th>\n",
       "      <td>33.0</td>\n",
       "      <td>0</td>\n",
       "      <td>0</td>\n",
       "      <td>0</td>\n",
       "      <td>0.000000</td>\n",
       "      <td>0.0</td>\n",
       "      <td>0</td>\n",
       "      <td>1</td>\n",
       "      <td>9</td>\n",
       "      <td>4</td>\n",
       "      <td>0</td>\n",
       "      <td>1</td>\n",
       "      <td>2</td>\n",
       "      <td>8.0</td>\n",
       "      <td>0</td>\n",
       "      <td>0</td>\n",
       "      <td>0</td>\n",
       "      <td>1</td>\n",
       "    </tr>\n",
       "    <tr>\n",
       "      <th>10916</th>\n",
       "      <td>33.0</td>\n",
       "      <td>0</td>\n",
       "      <td>0</td>\n",
       "      <td>0</td>\n",
       "      <td>3.350432</td>\n",
       "      <td>2.0</td>\n",
       "      <td>0</td>\n",
       "      <td>1</td>\n",
       "      <td>8</td>\n",
       "      <td>4</td>\n",
       "      <td>1</td>\n",
       "      <td>1</td>\n",
       "      <td>2</td>\n",
       "      <td>10.0</td>\n",
       "      <td>0</td>\n",
       "      <td>1</td>\n",
       "      <td>0</td>\n",
       "      <td>1</td>\n",
       "    </tr>\n",
       "    <tr>\n",
       "      <th>34273</th>\n",
       "      <td>26.0</td>\n",
       "      <td>0</td>\n",
       "      <td>0</td>\n",
       "      <td>0</td>\n",
       "      <td>0.000000</td>\n",
       "      <td>7.0</td>\n",
       "      <td>0</td>\n",
       "      <td>0</td>\n",
       "      <td>7</td>\n",
       "      <td>4</td>\n",
       "      <td>0</td>\n",
       "      <td>1</td>\n",
       "      <td>4</td>\n",
       "      <td>6.0</td>\n",
       "      <td>1</td>\n",
       "      <td>0</td>\n",
       "      <td>1</td>\n",
       "      <td>0</td>\n",
       "    </tr>\n",
       "  </tbody>\n",
       "</table>\n",
       "</div>"
      ],
      "text/plain": [
       "        BMI  Smoking  AlcoholDrinking  Stroke  PhysicalHealth  MentalHealth  \\\n",
       "Index                                                                         \n",
       "35836  27.0        0                0       0       21.000000           0.0   \n",
       "62368  29.0        0                0       0       20.000000           0.0   \n",
       "10349  33.0        0                0       0        0.000000           0.0   \n",
       "10916  33.0        0                0       0        3.350432           2.0   \n",
       "34273  26.0        0                0       0        0.000000           7.0   \n",
       "\n",
       "       DiffWalking  Sex  AgeCategory  Race  Diabetic  PhysicalActivity  \\\n",
       "Index                                                                    \n",
       "35836            0    0            4     2         0                 0   \n",
       "62368            0    1           10     4         2                 0   \n",
       "10349            0    1            9     4         0                 1   \n",
       "10916            0    1            8     4         1                 1   \n",
       "34273            0    0            7     4         0                 1   \n",
       "\n",
       "       GenHealth  SleepTime  Asthma  KidneyDisease  SkinCancer  HeartDisease  \n",
       "Index                                                                         \n",
       "35836          0        4.0       0              0           0             0  \n",
       "62368          1        8.0       0              0           0             1  \n",
       "10349          2        8.0       0              0           0             1  \n",
       "10916          2       10.0       0              1           0             1  \n",
       "34273          4        6.0       1              0           1             0  "
      ]
     },
     "execution_count": 50,
     "metadata": {},
     "output_type": "execute_result"
    }
   ],
   "source": [
    "df_resp_t.sample(5)"
   ]
  },
  {
   "cell_type": "code",
   "execution_count": 51,
   "id": "f430aa49-a620-498a-8d71-e6d892ffdb06",
   "metadata": {},
   "outputs": [
    {
     "data": {
      "text/html": [
       "<div>\n",
       "<style scoped>\n",
       "    .dataframe tbody tr th:only-of-type {\n",
       "        vertical-align: middle;\n",
       "    }\n",
       "\n",
       "    .dataframe tbody tr th {\n",
       "        vertical-align: top;\n",
       "    }\n",
       "\n",
       "    .dataframe thead th {\n",
       "        text-align: right;\n",
       "    }\n",
       "</style>\n",
       "<table border=\"1\" class=\"dataframe\">\n",
       "  <thead>\n",
       "    <tr style=\"text-align: right;\">\n",
       "      <th></th>\n",
       "      <th>BMI</th>\n",
       "      <th>Smoking</th>\n",
       "      <th>AlcoholDrinking</th>\n",
       "      <th>Stroke</th>\n",
       "      <th>PhysicalHealth</th>\n",
       "      <th>MentalHealth</th>\n",
       "      <th>DiffWalking</th>\n",
       "      <th>Sex</th>\n",
       "      <th>AgeCategory</th>\n",
       "      <th>Race</th>\n",
       "      <th>Diabetic</th>\n",
       "      <th>PhysicalActivity</th>\n",
       "      <th>GenHealth</th>\n",
       "      <th>SleepTime</th>\n",
       "      <th>Asthma</th>\n",
       "      <th>KidneyDisease</th>\n",
       "      <th>SkinCancer</th>\n",
       "      <th>HeartDisease</th>\n",
       "    </tr>\n",
       "    <tr>\n",
       "      <th>Index</th>\n",
       "      <th></th>\n",
       "      <th></th>\n",
       "      <th></th>\n",
       "      <th></th>\n",
       "      <th></th>\n",
       "      <th></th>\n",
       "      <th></th>\n",
       "      <th></th>\n",
       "      <th></th>\n",
       "      <th></th>\n",
       "      <th></th>\n",
       "      <th></th>\n",
       "      <th></th>\n",
       "      <th></th>\n",
       "      <th></th>\n",
       "      <th></th>\n",
       "      <th></th>\n",
       "      <th></th>\n",
       "    </tr>\n",
       "  </thead>\n",
       "  <tbody>\n",
       "    <tr>\n",
       "      <th>67494</th>\n",
       "      <td>30.000000</td>\n",
       "      <td>0</td>\n",
       "      <td>0</td>\n",
       "      <td>0</td>\n",
       "      <td>0.0</td>\n",
       "      <td>0.0</td>\n",
       "      <td>0</td>\n",
       "      <td>1</td>\n",
       "      <td>2</td>\n",
       "      <td>4</td>\n",
       "      <td>0</td>\n",
       "      <td>1</td>\n",
       "      <td>2</td>\n",
       "      <td>8.0</td>\n",
       "      <td>0</td>\n",
       "      <td>0</td>\n",
       "      <td>0</td>\n",
       "      <td>0</td>\n",
       "    </tr>\n",
       "    <tr>\n",
       "      <th>67495</th>\n",
       "      <td>26.000000</td>\n",
       "      <td>0</td>\n",
       "      <td>0</td>\n",
       "      <td>0</td>\n",
       "      <td>14.0</td>\n",
       "      <td>14.0</td>\n",
       "      <td>0</td>\n",
       "      <td>0</td>\n",
       "      <td>10</td>\n",
       "      <td>4</td>\n",
       "      <td>0</td>\n",
       "      <td>1</td>\n",
       "      <td>1</td>\n",
       "      <td>8.0</td>\n",
       "      <td>0</td>\n",
       "      <td>0</td>\n",
       "      <td>1</td>\n",
       "      <td>0</td>\n",
       "    </tr>\n",
       "    <tr>\n",
       "      <th>67496</th>\n",
       "      <td>27.819745</td>\n",
       "      <td>0</td>\n",
       "      <td>0</td>\n",
       "      <td>0</td>\n",
       "      <td>30.0</td>\n",
       "      <td>0.0</td>\n",
       "      <td>0</td>\n",
       "      <td>0</td>\n",
       "      <td>11</td>\n",
       "      <td>4</td>\n",
       "      <td>0</td>\n",
       "      <td>0</td>\n",
       "      <td>1</td>\n",
       "      <td>7.0</td>\n",
       "      <td>0</td>\n",
       "      <td>0</td>\n",
       "      <td>0</td>\n",
       "      <td>0</td>\n",
       "    </tr>\n",
       "    <tr>\n",
       "      <th>67497</th>\n",
       "      <td>27.000000</td>\n",
       "      <td>0</td>\n",
       "      <td>0</td>\n",
       "      <td>0</td>\n",
       "      <td>0.0</td>\n",
       "      <td>2.0</td>\n",
       "      <td>0</td>\n",
       "      <td>0</td>\n",
       "      <td>8</td>\n",
       "      <td>4</td>\n",
       "      <td>0</td>\n",
       "      <td>0</td>\n",
       "      <td>2</td>\n",
       "      <td>7.0</td>\n",
       "      <td>0</td>\n",
       "      <td>0</td>\n",
       "      <td>0</td>\n",
       "      <td>0</td>\n",
       "    </tr>\n",
       "    <tr>\n",
       "      <th>67499</th>\n",
       "      <td>24.000000</td>\n",
       "      <td>0</td>\n",
       "      <td>0</td>\n",
       "      <td>0</td>\n",
       "      <td>0.0</td>\n",
       "      <td>0.0</td>\n",
       "      <td>0</td>\n",
       "      <td>0</td>\n",
       "      <td>2</td>\n",
       "      <td>3</td>\n",
       "      <td>0</td>\n",
       "      <td>1</td>\n",
       "      <td>4</td>\n",
       "      <td>8.0</td>\n",
       "      <td>0</td>\n",
       "      <td>0</td>\n",
       "      <td>0</td>\n",
       "      <td>0</td>\n",
       "    </tr>\n",
       "  </tbody>\n",
       "</table>\n",
       "</div>"
      ],
      "text/plain": [
       "             BMI  Smoking  AlcoholDrinking  Stroke  PhysicalHealth  \\\n",
       "Index                                                                \n",
       "67494  30.000000        0                0       0             0.0   \n",
       "67495  26.000000        0                0       0            14.0   \n",
       "67496  27.819745        0                0       0            30.0   \n",
       "67497  27.000000        0                0       0             0.0   \n",
       "67499  24.000000        0                0       0             0.0   \n",
       "\n",
       "       MentalHealth  DiffWalking  Sex  AgeCategory  Race  Diabetic  \\\n",
       "Index                                                                \n",
       "67494           0.0            0    1            2     4         0   \n",
       "67495          14.0            0    0           10     4         0   \n",
       "67496           0.0            0    0           11     4         0   \n",
       "67497           2.0            0    0            8     4         0   \n",
       "67499           0.0            0    0            2     3         0   \n",
       "\n",
       "       PhysicalActivity  GenHealth  SleepTime  Asthma  KidneyDisease  \\\n",
       "Index                                                                  \n",
       "67494                 1          2        8.0       0              0   \n",
       "67495                 1          1        8.0       0              0   \n",
       "67496                 0          1        7.0       0              0   \n",
       "67497                 0          2        7.0       0              0   \n",
       "67499                 1          4        8.0       0              0   \n",
       "\n",
       "       SkinCancer  HeartDisease  \n",
       "Index                            \n",
       "67494           0             0  \n",
       "67495           1             0  \n",
       "67496           0             0  \n",
       "67497           0             0  \n",
       "67499           0             0  "
      ]
     },
     "execution_count": 51,
     "metadata": {},
     "output_type": "execute_result"
    }
   ],
   "source": [
    "df_resp_t.tail(5)"
   ]
  },
  {
   "cell_type": "code",
   "execution_count": 52,
   "id": "a92830db-50e0-4783-affe-0ac0d4533701",
   "metadata": {},
   "outputs": [
    {
     "name": "stdout",
     "output_type": "stream",
     "text": [
      "[[0. 0. 0. ... 0. 0. 0.]\n",
      " [0. 0. 0. ... 0. 0. 0.]\n",
      " [0. 0. 0. ... 0. 0. 0.]\n",
      " ...\n",
      " [0. 0. 0. ... 0. 0. 0.]\n",
      " [0. 0. 0. ... 0. 0. 0.]\n",
      " [0. 0. 0. ... 0. 0. 0.]]\n"
     ]
    }
   ],
   "source": [
    "x = df_resp_t.iloc[:, [1,2,3,4,5,6,7,8,9,10,11,12,13,14,15,16]].values\n",
    "print(x )"
   ]
  },
  {
   "cell_type": "code",
   "execution_count": 53,
   "id": "de52a394-3b5c-4261-a0ab-872ba8ccff3c",
   "metadata": {},
   "outputs": [],
   "source": [
    "y = df_resp_t.iloc[:, 17].values\n",
    "y = y.astype('int')"
   ]
  },
  {
   "cell_type": "code",
   "execution_count": 54,
   "id": "e70f9aab-cf1b-4625-ba13-9ef37321ebfa",
   "metadata": {},
   "outputs": [],
   "source": [
    "# Conjunto de entrnamiento\n",
    "\n",
    "x_train, x_test, y_train, y_test = train_test_split(x,y, test_size = 0.75, random_state = 0 )"
   ]
  },
  {
   "cell_type": "code",
   "execution_count": 55,
   "id": "cc2a4136-e79a-4156-957c-16b59cf12c80",
   "metadata": {},
   "outputs": [],
   "source": [
    "# Estandarizar las escalas \n",
    "from sklearn.preprocessing import StandardScaler\n",
    "\n",
    "sc = StandardScaler()\n",
    "x_train = sc.fit_transform(x_train)\n",
    "x_test = sc.transform(x_test)"
   ]
  },
  {
   "cell_type": "code",
   "execution_count": 56,
   "id": "48b461ee-9b5b-449a-b156-e97d7c2ef5cd",
   "metadata": {},
   "outputs": [],
   "source": [
    "from sklearn.naive_bayes import GaussianNB\n",
    "\n",
    "classifier = GaussianNB()"
   ]
  },
  {
   "cell_type": "code",
   "execution_count": 57,
   "id": "7279c57d-cd8a-4b86-a296-2635018801e9",
   "metadata": {},
   "outputs": [
    {
     "data": {
      "text/plain": [
       "GaussianNB()"
      ]
     },
     "execution_count": 57,
     "metadata": {},
     "output_type": "execute_result"
    }
   ],
   "source": [
    "classifier.fit(x_train, y_train)"
   ]
  },
  {
   "cell_type": "code",
   "execution_count": 58,
   "id": "f3e3157f-9df9-415d-a618-a2ec37217a51",
   "metadata": {},
   "outputs": [],
   "source": [
    "y_pred = classifier.predict(x_test)"
   ]
  },
  {
   "cell_type": "code",
   "execution_count": 59,
   "id": "144fbd17-7d3d-49d9-8df0-71259b8bb7f1",
   "metadata": {},
   "outputs": [
    {
     "name": "stdout",
     "output_type": "stream",
     "text": [
      "[0 1 0 ... 1 0 0]\n"
     ]
    }
   ],
   "source": [
    "print(y_pred)"
   ]
  },
  {
   "cell_type": "code",
   "execution_count": 60,
   "id": "c99449cd-efd6-4917-93c6-ae7d136a0314",
   "metadata": {},
   "outputs": [
    {
     "name": "stdout",
     "output_type": "stream",
     "text": [
      "[[37816  4361]\n",
      " [ 2492  1490]]\n"
     ]
    }
   ],
   "source": [
    "cm = confusion_matrix(y_test, y_pred)\n",
    "print (cm)"
   ]
  },
  {
   "cell_type": "code",
   "execution_count": 61,
   "id": "ed720570-590e-46ac-a626-385655a8335b",
   "metadata": {},
   "outputs": [
    {
     "name": "stderr",
     "output_type": "stream",
     "text": [
      "/Users/zadiaz/opt/anaconda3/lib/python3.9/site-packages/sklearn/utils/deprecation.py:87: FutureWarning: Function plot_confusion_matrix is deprecated; Function `plot_confusion_matrix` is deprecated in 1.0 and will be removed in 1.2. Use one of the class methods: ConfusionMatrixDisplay.from_predictions or ConfusionMatrixDisplay.from_estimator.\n",
      "  warnings.warn(msg, category=FutureWarning)\n"
     ]
    },
    {
     "data": {
      "image/png": "[encoded data removed]",
      "text/plain": [
       "<Figure size 432x288 with 2 Axes>"
      ]
     },
     "metadata": {
      "needs_background": "light"
     },
     "output_type": "display_data"
    }
   ],
   "source": [
    "plot_confusion_matrix(classifier,  x_test, y_test)  \n",
    "plt.show()  "
   ]
  },
  {
   "cell_type": "code",
   "execution_count": 62,
   "id": "c7519916-f5b3-40d0-abf3-3d3a501e4d9b",
   "metadata": {},
   "outputs": [
    {
     "name": "stdout",
     "output_type": "stream",
     "text": [
      "              precision    recall  f1-score   support\n",
      "\n",
      "           0       0.94      0.90      0.92     42177\n",
      "           1       0.25      0.37      0.30      3982\n",
      "\n",
      "    accuracy                           0.85     46159\n",
      "   macro avg       0.60      0.64      0.61     46159\n",
      "weighted avg       0.88      0.85      0.86     46159\n",
      "\n"
     ]
    }
   ],
   "source": [
    " print(classification_report(y_test, y_pred))"
   ]
  },
  {
   "cell_type": "code",
   "execution_count": 63,
   "id": "816e2752-a68e-4886-803c-dd7d4d33235a",
   "metadata": {},
   "outputs": [
    {
     "name": "stdout",
     "output_type": "stream",
     "text": [
      "Exactitud sobre entrenamiento: 0.85\n",
      "Exactitud sobre test: 0.85\n"
     ]
    }
   ],
   "source": [
    "y_pred_train = classifier.predict(x_train)\n",
    "y_pred_test = classifier.predict(x_test)\n",
    "print('Exactitud sobre entrenamiento: %.2f' % accuracy_score(y_train, y_pred_train))\n",
    "print('Exactitud sobre test: %.2f' % accuracy_score(y_test, y_pred_test))"
   ]
  },
  {
   "cell_type": "code",
   "execution_count": null,
   "id": "0f016d9f-316c-4d76-88d7-c488caac1d5a",
   "metadata": {},
   "outputs": [],
   "source": []
  }
 ],
 "metadata": {
  "kernelspec": {
   "display_name": "Python 3 (ipykernel)",
   "language": "python",
   "name": "python3"
  },
  "language_info": {
   "codemirror_mode": {
    "name": "ipython",
    "version": 3
   },
   "file_extension": ".py",
   "mimetype": "text/x-python",
   "name": "python",
   "nbconvert_exporter": "python",
   "pygments_lexer": "ipython3",
   "version": "3.9.12"
  }
 },
 "nbformat": 4,
 "nbformat_minor": 5
}
