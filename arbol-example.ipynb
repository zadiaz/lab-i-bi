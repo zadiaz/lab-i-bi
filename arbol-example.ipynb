{
 "cells": [
  {
   "cell_type": "markdown",
   "id": "d375c727-cdc5-42f3-9920-1e7cc9e833e7",
   "metadata": {},
   "source": [
    "David Diaz, Arbol de desicion.\n",
    "\n",
    "## Importación de librerias\n",
    "\n",
    "Se cargan las librerias necesarias para la implementacion "
   ]
  },
  {
   "cell_type": "code",
   "execution_count": 1,
   "id": "f98eab91-b7e9-44ca-88a4-12af158af0bf",
   "metadata": {},
   "outputs": [],
   "source": [
    "# Librerías para manejo de datos\n",
    "import pandas as pd\n",
    "pd.set_option('display.max_columns', 25) # Número máximo de columnas a mostrar\n",
    "pd.set_option('display.max_rows', 50) # Numero máximo de filas a mostar\n",
    "import numpy as np\n",
    "np.random.seed(3301)\n",
    "import pandas as pd\n",
    "# Para preparar los datos\n",
    "from sklearn.preprocessing import LabelEncoder\n",
    "# Para crear el arbol de decisión \n",
    "from sklearn.tree import DecisionTreeClassifier \n",
    "# Para realizar la separación del conjunto de aprendizaje en entrenamiento y test.\n",
    "from sklearn.model_selection import train_test_split\n",
    "# Para evaluar el modelo\n",
    "from sklearn.metrics import confusion_matrix, classification_report, precision_score, recall_score, f1_score, accuracy_score\n",
    "from sklearn.metrics import plot_confusion_matrix\n",
    "# Para búsqueda de hiperparámetros\n",
    "from sklearn.model_selection import GridSearchCV\n",
    "# Para la validación cruzada\n",
    "from sklearn.model_selection import KFold \n",
    "#Librerías para la visualización\n",
    "import matplotlib.pyplot as plt\n",
    "# Seaborn\n",
    "import seaborn as sns \n",
    "from sklearn import tree"
   ]
  },
  {
   "cell_type": "markdown",
   "id": "aaa95676-9c2c-4fd8-9488-0929eb653ed6",
   "metadata": {},
   "source": [
    "## Carga de datos\n",
    "\n",
    "A través de la librería pandas podemos realizar la carga de datos desde diferentes fuentes de información, en este caso se realizará la carga de un archivo plano csv (archivo separado por comas)."
   ]
  },
  {
   "cell_type": "code",
   "execution_count": 2,
   "id": "b21cde36-4d00-43c4-a9cd-e5849308aa5e",
   "metadata": {},
   "outputs": [],
   "source": [
    "# Se cargan los datos. \n",
    "df_salud=pd.read_csv('202120_Laboratorio_1_datos_SaludAlpes_diagnosticos_dataset.csv', sep=';', encoding = 'utf-8')"
   ]
  },
  {
   "cell_type": "code",
   "execution_count": 3,
   "id": "d24abf55-3203-4f04-88f0-0bfcc4b1075c",
   "metadata": {},
   "outputs": [
    {
     "data": {
      "text/plain": [
       "(768, 11)"
      ]
     },
     "execution_count": 3,
     "metadata": {},
     "output_type": "execute_result"
    }
   ],
   "source": [
    "df_salud.shape"
   ]
  },
  {
   "cell_type": "code",
   "execution_count": 4,
   "id": "d54717a9-538a-4d6d-9b4a-538545e036b6",
   "metadata": {},
   "outputs": [
    {
     "data": {
      "text/html": [
       "<div>\n",
       "<style scoped>\n",
       "    .dataframe tbody tr th:only-of-type {\n",
       "        vertical-align: middle;\n",
       "    }\n",
       "\n",
       "    .dataframe tbody tr th {\n",
       "        vertical-align: top;\n",
       "    }\n",
       "\n",
       "    .dataframe thead th {\n",
       "        text-align: right;\n",
       "    }\n",
       "</style>\n",
       "<table border=\"1\" class=\"dataframe\">\n",
       "  <thead>\n",
       "    <tr style=\"text-align: right;\">\n",
       "      <th></th>\n",
       "      <th>Hair</th>\n",
       "      <th>Pregnancies</th>\n",
       "      <th>Glucose</th>\n",
       "      <th>City</th>\n",
       "      <th>BloodPressure</th>\n",
       "      <th>SkinThickness</th>\n",
       "      <th>Insulin</th>\n",
       "      <th>BMI</th>\n",
       "      <th>DiabetesPedigreeFunction</th>\n",
       "      <th>Age</th>\n",
       "      <th>Outcome</th>\n",
       "    </tr>\n",
       "  </thead>\n",
       "  <tbody>\n",
       "    <tr>\n",
       "      <th>0</th>\n",
       "      <td>Red</td>\n",
       "      <td>6</td>\n",
       "      <td>148</td>\n",
       "      <td>New York</td>\n",
       "      <td>72</td>\n",
       "      <td>35</td>\n",
       "      <td>0</td>\n",
       "      <td>336</td>\n",
       "      <td>627</td>\n",
       "      <td>50</td>\n",
       "      <td>1</td>\n",
       "    </tr>\n",
       "    <tr>\n",
       "      <th>1</th>\n",
       "      <td>Black</td>\n",
       "      <td>1</td>\n",
       "      <td>85</td>\n",
       "      <td>New York</td>\n",
       "      <td>66</td>\n",
       "      <td>29</td>\n",
       "      <td>0</td>\n",
       "      <td>266</td>\n",
       "      <td>351</td>\n",
       "      <td>31</td>\n",
       "      <td>0</td>\n",
       "    </tr>\n",
       "    <tr>\n",
       "      <th>2</th>\n",
       "      <td>Red</td>\n",
       "      <td>8</td>\n",
       "      <td>183</td>\n",
       "      <td>New York</td>\n",
       "      <td>64</td>\n",
       "      <td>0</td>\n",
       "      <td>0</td>\n",
       "      <td>233</td>\n",
       "      <td>672</td>\n",
       "      <td>32</td>\n",
       "      <td>1</td>\n",
       "    </tr>\n",
       "    <tr>\n",
       "      <th>3</th>\n",
       "      <td>Black</td>\n",
       "      <td>1</td>\n",
       "      <td>89</td>\n",
       "      <td>New York</td>\n",
       "      <td>66</td>\n",
       "      <td>23</td>\n",
       "      <td>94</td>\n",
       "      <td>281</td>\n",
       "      <td>167</td>\n",
       "      <td>21</td>\n",
       "      <td>0</td>\n",
       "    </tr>\n",
       "    <tr>\n",
       "      <th>4</th>\n",
       "      <td>Black</td>\n",
       "      <td>0</td>\n",
       "      <td>137</td>\n",
       "      <td>New York</td>\n",
       "      <td>40</td>\n",
       "      <td>35</td>\n",
       "      <td>168</td>\n",
       "      <td>431</td>\n",
       "      <td>2288</td>\n",
       "      <td>33</td>\n",
       "      <td>1</td>\n",
       "    </tr>\n",
       "  </tbody>\n",
       "</table>\n",
       "</div>"
      ],
      "text/plain": [
       "    Hair Pregnancies Glucose      City BloodPressure SkinThickness Insulin  \\\n",
       "0    Red           6     148  New York            72            35       0   \n",
       "1  Black           1      85  New York            66            29       0   \n",
       "2    Red           8     183  New York            64             0       0   \n",
       "3  Black           1      89  New York            66            23      94   \n",
       "4  Black           0     137  New York            40            35     168   \n",
       "\n",
       "   BMI DiabetesPedigreeFunction  Age Outcome  \n",
       "0  336                      627   50       1  \n",
       "1  266                      351   31       0  \n",
       "2  233                      672   32       1  \n",
       "3  281                      167   21       0  \n",
       "4  431                     2288   33       1  "
      ]
     },
     "execution_count": 4,
     "metadata": {},
     "output_type": "execute_result"
    }
   ],
   "source": [
    "df_salud.head()\n"
   ]
  },
  {
   "cell_type": "code",
   "execution_count": 5,
   "id": "17eab302-c9c4-4a3e-a5d2-9fb5dc96115c",
   "metadata": {},
   "outputs": [
    {
     "data": {
      "text/plain": [
       "Hair                        object\n",
       "Pregnancies                 object\n",
       "Glucose                     object\n",
       "City                        object\n",
       "BloodPressure               object\n",
       "SkinThickness               object\n",
       "Insulin                     object\n",
       "BMI                          int64\n",
       "DiabetesPedigreeFunction    object\n",
       "Age                          int64\n",
       "Outcome                     object\n",
       "dtype: object"
      ]
     },
     "execution_count": 5,
     "metadata": {},
     "output_type": "execute_result"
    }
   ],
   "source": [
    "df_salud.dtypes"
   ]
  },
  {
   "cell_type": "code",
   "execution_count": 6,
   "id": "9b2aa5a0-5d5b-46fd-87e2-ec0cc11df30b",
   "metadata": {},
   "outputs": [
    {
     "data": {
      "text/html": [
       "<div>\n",
       "<style scoped>\n",
       "    .dataframe tbody tr th:only-of-type {\n",
       "        vertical-align: middle;\n",
       "    }\n",
       "\n",
       "    .dataframe tbody tr th {\n",
       "        vertical-align: top;\n",
       "    }\n",
       "\n",
       "    .dataframe thead th {\n",
       "        text-align: right;\n",
       "    }\n",
       "</style>\n",
       "<table border=\"1\" class=\"dataframe\">\n",
       "  <thead>\n",
       "    <tr style=\"text-align: right;\">\n",
       "      <th></th>\n",
       "      <th>BMI</th>\n",
       "      <th>Age</th>\n",
       "    </tr>\n",
       "  </thead>\n",
       "  <tbody>\n",
       "    <tr>\n",
       "      <th>count</th>\n",
       "      <td>768.000000</td>\n",
       "      <td>768.000000</td>\n",
       "    </tr>\n",
       "    <tr>\n",
       "      <th>mean</th>\n",
       "      <td>289.796875</td>\n",
       "      <td>38.011719</td>\n",
       "    </tr>\n",
       "    <tr>\n",
       "      <th>std</th>\n",
       "      <td>116.757554</td>\n",
       "      <td>117.825600</td>\n",
       "    </tr>\n",
       "    <tr>\n",
       "      <th>min</th>\n",
       "      <td>0.000000</td>\n",
       "      <td>21.000000</td>\n",
       "    </tr>\n",
       "    <tr>\n",
       "      <th>25%</th>\n",
       "      <td>251.750000</td>\n",
       "      <td>24.000000</td>\n",
       "    </tr>\n",
       "    <tr>\n",
       "      <th>50%</th>\n",
       "      <td>309.000000</td>\n",
       "      <td>29.000000</td>\n",
       "    </tr>\n",
       "    <tr>\n",
       "      <th>75%</th>\n",
       "      <td>359.000000</td>\n",
       "      <td>41.000000</td>\n",
       "    </tr>\n",
       "    <tr>\n",
       "      <th>max</th>\n",
       "      <td>671.000000</td>\n",
       "      <td>3256.000000</td>\n",
       "    </tr>\n",
       "  </tbody>\n",
       "</table>\n",
       "</div>"
      ],
      "text/plain": [
       "              BMI          Age\n",
       "count  768.000000   768.000000\n",
       "mean   289.796875    38.011719\n",
       "std    116.757554   117.825600\n",
       "min      0.000000    21.000000\n",
       "25%    251.750000    24.000000\n",
       "50%    309.000000    29.000000\n",
       "75%    359.000000    41.000000\n",
       "max    671.000000  3256.000000"
      ]
     },
     "execution_count": 6,
     "metadata": {},
     "output_type": "execute_result"
    }
   ],
   "source": [
    "df_salud.describe()"
   ]
  },
  {
   "cell_type": "markdown",
   "id": "1d017e6b-555c-4205-96ce-ecdf279a5d10",
   "metadata": {},
   "source": [
    "## Perfilamiento de los datos\n",
    "\n",
    "El archivo comprende 11 columnas de infomación de las cuales 2 son int64 y las otras estan definidas como objetos, al ver la cabeza del archivo, se puede persivir que es necesario hacer un filtrado, ya que 9 de las 11 columnas son aparentemente numericas.\n",
    "\n",
    "En cuanto al perfilamiento de datos, se van a definir variables adicionales para agregar la clasificacion en las columnas que tienen campos con rango de normalidad. (Glucosa, Preison)\n",
    "\n",
    "Ademas, se observa que la columna Ciudad es irrelevante para el estudio de los datos, por lo tanto se puede eliminar. Paralelamente para que el algoritmo funcione correctamente, se debe eliminar la columna outcome si queremos obtener una buena funcion.\n",
    "\n",
    "Por otro lado, el valor de la columna BMI esta mal ya que no tiene la coma decimal, por lo tanto se debe corregir toda la columna, Aunque si pueden haber valores altos de BMI uno superior a 100 es inhumano."
   ]
  },
  {
   "cell_type": "code",
   "execution_count": 7,
   "id": "6c5299ac-3ccb-478f-ab07-00774d4ce39b",
   "metadata": {},
   "outputs": [],
   "source": [
    "# Se hace una copia de los datos\n",
    "df_salud_t = df_salud"
   ]
  },
  {
   "cell_type": "code",
   "execution_count": 8,
   "id": "f0dfd0b2-f9a0-42ab-9426-e7f99575fe05",
   "metadata": {},
   "outputs": [],
   "source": [
    "# Se elimina la fila con el valor de -\n",
    "df_salud_t = df_salud_t.set_index(\"Glucose\")\n",
    "df_salud_t = df_salud_t.drop(\"-\", axis=0)\n",
    "df_salud_t = df_salud_t.reset_index()"
   ]
  },
  {
   "cell_type": "code",
   "execution_count": 9,
   "id": "921df05e-1f32-483a-96ac-0391508a05ef",
   "metadata": {},
   "outputs": [],
   "source": [
    "# Se eliminan las columnas City y Outcome\n",
    "df_salud_t = df_salud_t.drop(['City'], axis=1)\n",
    "\n",
    "# Se eliminan duplucados y nulos\n",
    "df_salud_t = df_salud_t.dropna()\n",
    "df_salud_t = df_salud_t.drop_duplicates()"
   ]
  },
  {
   "cell_type": "code",
   "execution_count": 10,
   "id": "1c3d5e5b-318f-4817-87cf-34244de5adcc",
   "metadata": {},
   "outputs": [
    {
     "data": {
      "text/plain": [
       "(767, 10)"
      ]
     },
     "execution_count": 10,
     "metadata": {},
     "output_type": "execute_result"
    }
   ],
   "source": [
    "\n",
    "df_salud_t.shape"
   ]
  },
  {
   "cell_type": "code",
   "execution_count": 11,
   "id": "aa6aefcd-ca26-48ca-b22e-6591bd422a85",
   "metadata": {},
   "outputs": [],
   "source": [
    "# Función para definir el nivel normar de glucosa 1 si esta normal 0 si presenta anormalidad\n",
    "\n",
    "def glucosa (row):\n",
    "    glucosa = int(row['Glucose'])\n",
    "   \n",
    "    if glucosa >= 140 and glucosa <=199 :\n",
    "        return 1\n",
    "    return 0\n",
    "df_salud_t['Glucosa']=df_salud_t.apply (lambda row: glucosa(row), axis=1)  \n",
    "\n",
    "\n"
   ]
  },
  {
   "cell_type": "code",
   "execution_count": 12,
   "id": "bc11df04-a977-4c55-a640-da64bc2b2deb",
   "metadata": {},
   "outputs": [],
   "source": [
    "# Función para definir el nivel normar de presion sanguinea 1 si esta normal 0 si presenta anormalidad\n",
    "\n",
    "def presion (row):\n",
    "    presion = int(row['BloodPressure'])\n",
    "   \n",
    "    if presion >= 80 and presion <=120 :\n",
    "        return 1\n",
    "    return 0\n",
    "df_salud_t['Presion']=df_salud_t.apply (lambda row: presion(row), axis=1)  \n",
    "\n",
    "\n"
   ]
  },
  {
   "cell_type": "code",
   "execution_count": 13,
   "id": "24acc3a2-ea3c-437e-af4a-06fc11f2cb32",
   "metadata": {},
   "outputs": [],
   "source": [
    "# Funcion para corregir el BMI\n",
    "def BMI (row):\n",
    "    pre = int(row['BMI'])\n",
    "   \n",
    "    if pre > 100 :\n",
    "        return pre/10.00\n",
    "    return pre\n",
    "df_salud_t['Indice']=df_salud_t.apply (lambda row: BMI(row), axis=1)  \n",
    "df_salud_t = df_salud_t.drop(['BMI'], axis=1)\n",
    "\n"
   ]
  },
  {
   "cell_type": "code",
   "execution_count": 14,
   "id": "899f3875-2ce5-4c39-bd63-ec26777399d9",
   "metadata": {},
   "outputs": [],
   "source": [
    "# Se convierten a valor numerico los datos de las columnas \n",
    "df_salud_t=df_salud_t.astype({\"BloodPressure\": int, \"SkinThickness\": int, \"Insulin\": int,  \"DiabetesPedigreeFunction\":int,\n",
    "                   \"Age\": int})"
   ]
  },
  {
   "cell_type": "code",
   "execution_count": 15,
   "id": "4368f263-bdac-4241-bf3a-e5c7e6bb2e80",
   "metadata": {},
   "outputs": [
    {
     "data": {
      "text/html": [
       "<div>\n",
       "<style scoped>\n",
       "    .dataframe tbody tr th:only-of-type {\n",
       "        vertical-align: middle;\n",
       "    }\n",
       "\n",
       "    .dataframe tbody tr th {\n",
       "        vertical-align: top;\n",
       "    }\n",
       "\n",
       "    .dataframe thead th {\n",
       "        text-align: right;\n",
       "    }\n",
       "</style>\n",
       "<table border=\"1\" class=\"dataframe\">\n",
       "  <thead>\n",
       "    <tr style=\"text-align: right;\">\n",
       "      <th></th>\n",
       "      <th>BloodPressure</th>\n",
       "      <th>SkinThickness</th>\n",
       "      <th>Insulin</th>\n",
       "      <th>DiabetesPedigreeFunction</th>\n",
       "      <th>Age</th>\n",
       "      <th>Glucosa</th>\n",
       "      <th>Presion</th>\n",
       "      <th>Indice</th>\n",
       "    </tr>\n",
       "  </thead>\n",
       "  <tbody>\n",
       "    <tr>\n",
       "      <th>count</th>\n",
       "      <td>767.000000</td>\n",
       "      <td>767.000000</td>\n",
       "      <td>767.000000</td>\n",
       "      <td>767.000000</td>\n",
       "      <td>767.000000</td>\n",
       "      <td>767.000000</td>\n",
       "      <td>767.000000</td>\n",
       "      <td>767.000000</td>\n",
       "    </tr>\n",
       "    <tr>\n",
       "      <th>mean</th>\n",
       "      <td>69.096480</td>\n",
       "      <td>20.563233</td>\n",
       "      <td>79.903520</td>\n",
       "      <td>432.395046</td>\n",
       "      <td>38.006519</td>\n",
       "      <td>0.256845</td>\n",
       "      <td>0.265971</td>\n",
       "      <td>31.983833</td>\n",
       "    </tr>\n",
       "    <tr>\n",
       "      <th>std</th>\n",
       "      <td>19.366833</td>\n",
       "      <td>15.945349</td>\n",
       "      <td>115.283105</td>\n",
       "      <td>336.144934</td>\n",
       "      <td>117.902397</td>\n",
       "      <td>0.437178</td>\n",
       "      <td>0.442137</td>\n",
       "      <td>7.885577</td>\n",
       "    </tr>\n",
       "    <tr>\n",
       "      <th>min</th>\n",
       "      <td>0.000000</td>\n",
       "      <td>0.000000</td>\n",
       "      <td>0.000000</td>\n",
       "      <td>1.000000</td>\n",
       "      <td>21.000000</td>\n",
       "      <td>0.000000</td>\n",
       "      <td>0.000000</td>\n",
       "      <td>0.000000</td>\n",
       "    </tr>\n",
       "    <tr>\n",
       "      <th>25%</th>\n",
       "      <td>62.000000</td>\n",
       "      <td>0.000000</td>\n",
       "      <td>0.000000</td>\n",
       "      <td>205.500000</td>\n",
       "      <td>24.000000</td>\n",
       "      <td>0.000000</td>\n",
       "      <td>0.000000</td>\n",
       "      <td>27.300000</td>\n",
       "    </tr>\n",
       "    <tr>\n",
       "      <th>50%</th>\n",
       "      <td>72.000000</td>\n",
       "      <td>23.000000</td>\n",
       "      <td>32.000000</td>\n",
       "      <td>337.000000</td>\n",
       "      <td>29.000000</td>\n",
       "      <td>0.000000</td>\n",
       "      <td>0.000000</td>\n",
       "      <td>32.000000</td>\n",
       "    </tr>\n",
       "    <tr>\n",
       "      <th>75%</th>\n",
       "      <td>80.000000</td>\n",
       "      <td>32.000000</td>\n",
       "      <td>127.500000</td>\n",
       "      <td>592.000000</td>\n",
       "      <td>41.000000</td>\n",
       "      <td>1.000000</td>\n",
       "      <td>1.000000</td>\n",
       "      <td>36.550000</td>\n",
       "    </tr>\n",
       "    <tr>\n",
       "      <th>max</th>\n",
       "      <td>122.000000</td>\n",
       "      <td>99.000000</td>\n",
       "      <td>846.000000</td>\n",
       "      <td>2329.000000</td>\n",
       "      <td>3256.000000</td>\n",
       "      <td>1.000000</td>\n",
       "      <td>1.000000</td>\n",
       "      <td>67.100000</td>\n",
       "    </tr>\n",
       "  </tbody>\n",
       "</table>\n",
       "</div>"
      ],
      "text/plain": [
       "       BloodPressure  SkinThickness     Insulin  DiabetesPedigreeFunction  \\\n",
       "count     767.000000     767.000000  767.000000                767.000000   \n",
       "mean       69.096480      20.563233   79.903520                432.395046   \n",
       "std        19.366833      15.945349  115.283105                336.144934   \n",
       "min         0.000000       0.000000    0.000000                  1.000000   \n",
       "25%        62.000000       0.000000    0.000000                205.500000   \n",
       "50%        72.000000      23.000000   32.000000                337.000000   \n",
       "75%        80.000000      32.000000  127.500000                592.000000   \n",
       "max       122.000000      99.000000  846.000000               2329.000000   \n",
       "\n",
       "               Age     Glucosa     Presion      Indice  \n",
       "count   767.000000  767.000000  767.000000  767.000000  \n",
       "mean     38.006519    0.256845    0.265971   31.983833  \n",
       "std     117.902397    0.437178    0.442137    7.885577  \n",
       "min      21.000000    0.000000    0.000000    0.000000  \n",
       "25%      24.000000    0.000000    0.000000   27.300000  \n",
       "50%      29.000000    0.000000    0.000000   32.000000  \n",
       "75%      41.000000    1.000000    1.000000   36.550000  \n",
       "max    3256.000000    1.000000    1.000000   67.100000  "
      ]
     },
     "execution_count": 15,
     "metadata": {},
     "output_type": "execute_result"
    }
   ],
   "source": [
    "df_salud_t.describe()"
   ]
  },
  {
   "cell_type": "markdown",
   "id": "109d8159-4c1d-486c-a6f7-636b9b9dccbe",
   "metadata": {},
   "source": [
    "## Preprocesamiento realizado\n",
    "\n",
    "En el preprocesamiento: \n",
    "\n",
    "     Se elimino la fila con \"-\" que impedia el procesamiento de los datos.\n",
    "     Se eliminaron las columnas City \n",
    "     Se eliminaron duplicados y nulos\n",
    "     Se definen funciones para los campos donde se puede hacer clasificacion\n",
    "     Se cambia el tipo de las columnas de object a int\n",
    "     Se corrige el BMI \n",
    "\n"
   ]
  },
  {
   "cell_type": "code",
   "execution_count": 16,
   "id": "dc27420b-d3d8-4f3f-b638-b895233d16b0",
   "metadata": {},
   "outputs": [
    {
     "data": {
      "text/plain": [
       "0    570\n",
       "1    197\n",
       "Name: Glucosa, dtype: int64"
      ]
     },
     "execution_count": 16,
     "metadata": {},
     "output_type": "execute_result"
    }
   ],
   "source": [
    "pd.value_counts(df_salud_t['Glucosa'])"
   ]
  },
  {
   "cell_type": "code",
   "execution_count": 17,
   "id": "ae261c5a-8138-4ee0-a9ae-32cb151969de",
   "metadata": {},
   "outputs": [
    {
     "data": {
      "text/plain": [
       "0    563\n",
       "1    204\n",
       "Name: Presion, dtype: int64"
      ]
     },
     "execution_count": 17,
     "metadata": {},
     "output_type": "execute_result"
    }
   ],
   "source": [
    "pd.value_counts(df_salud_t['Presion'])"
   ]
  },
  {
   "cell_type": "code",
   "execution_count": 18,
   "id": "af4b133a-6137-44d3-8a1b-a7315b53ba65",
   "metadata": {},
   "outputs": [
    {
     "data": {
      "image/png": "[encoded data removed]",
      "text/plain": [
       "<Figure size 432x288 with 1 Axes>"
      ]
     },
     "metadata": {
      "needs_background": "light"
     },
     "output_type": "display_data"
    }
   ],
   "source": [
    "ax = sns.countplot(x='Glucosa', data=df_salud_t)"
   ]
  },
  {
   "cell_type": "code",
   "execution_count": 19,
   "id": "5c0d0fd8-4814-4eff-9c11-0068b8728b7a",
   "metadata": {},
   "outputs": [
    {
     "data": {
      "image/png": "[encoded data removed]",
      "text/plain": [
       "<Figure size 432x288 with 1 Axes>"
      ]
     },
     "metadata": {
      "needs_background": "light"
     },
     "output_type": "display_data"
    }
   ],
   "source": [
    "ax = sns.countplot(x='Presion', data=df_salud_t)"
   ]
  },
  {
   "cell_type": "code",
   "execution_count": 20,
   "id": "b8ecc415-0256-4fcf-9969-917fc4efb5d3",
   "metadata": {},
   "outputs": [
    {
     "data": {
      "text/plain": [
       "Index(['BloodPressure', 'SkinThickness', 'Insulin', 'DiabetesPedigreeFunction',\n",
       "       'Age', 'Glucosa', 'Presion', 'Indice'],\n",
       "      dtype='object')"
      ]
     },
     "execution_count": 20,
     "metadata": {},
     "output_type": "execute_result"
    }
   ],
   "source": [
    "number_cols = df_salud_t.dtypes[(df_salud_t.dtypes == np.int64) | (df_salud_t.dtypes == np.float64)].index \n",
    "number_cols = df_salud_t.select_dtypes(include = ['int64','float']).columns\n",
    "number_cols"
   ]
  },
  {
   "cell_type": "code",
   "execution_count": 21,
   "id": "51ba47f7-d120-47fc-a5aa-b584045a6d13",
   "metadata": {},
   "outputs": [],
   "source": [
    "df_salud_m = df_salud_t[number_cols]"
   ]
  },
  {
   "cell_type": "code",
   "execution_count": 22,
   "id": "2ffd2719-90a0-4bbe-b11e-0bf391552bd3",
   "metadata": {},
   "outputs": [],
   "source": [
    "Y = df_salud_t['Outcome']\n",
    "X = df_salud_m"
   ]
  },
  {
   "cell_type": "code",
   "execution_count": 23,
   "id": "f967b309-f970-4ff7-a37a-3e9db20f1718",
   "metadata": {},
   "outputs": [],
   "source": [
    "X_train, X_test, Y_train, Y_test = train_test_split(X, Y, test_size=0.2, random_state=0)\n"
   ]
  },
  {
   "cell_type": "code",
   "execution_count": 24,
   "id": "91672638-987d-4688-839a-b5e6cd0615e9",
   "metadata": {},
   "outputs": [],
   "source": [
    "arbol = DecisionTreeClassifier(criterion='entropy', random_state=0)"
   ]
  },
  {
   "cell_type": "code",
   "execution_count": 25,
   "id": "9d44cbce-94d6-4c68-bc3d-c48591bb2bbe",
   "metadata": {},
   "outputs": [],
   "source": [
    "arbol = arbol.fit(X_train,Y_train)"
   ]
  },
  {
   "cell_type": "code",
   "execution_count": 26,
   "id": "be1e7e87-5f83-4249-9b4e-a32c3e727d7e",
   "metadata": {},
   "outputs": [],
   "source": [
    "y_pred = arbol.predict(X_test)"
   ]
  },
  {
   "cell_type": "code",
   "execution_count": 27,
   "id": "7fd4bdd2-5131-4227-be70-c64261aa1fe4",
   "metadata": {},
   "outputs": [
    {
     "data": {
      "text/plain": [
       "array([[85, 23],\n",
       "       [19, 27]])"
      ]
     },
     "execution_count": 27,
     "metadata": {},
     "output_type": "execute_result"
    }
   ],
   "source": [
    "confusion_matrix(Y_test, y_pred)"
   ]
  },
  {
   "cell_type": "code",
   "execution_count": 28,
   "id": "b2ff900c-bbe6-4fe7-821d-76b05e9908de",
   "metadata": {},
   "outputs": [
    {
     "data": {
      "image/png": "[encoded data removed]",
      "text/plain": [
       "<Figure size 432x288 with 2 Axes>"
      ]
     },
     "metadata": {
      "needs_background": "light"
     },
     "output_type": "display_data"
    }
   ],
   "source": [
    "plot_confusion_matrix(arbol, X_test, Y_test)  \n",
    "plt.show()  "
   ]
  },
  {
   "cell_type": "markdown",
   "id": "d5d14f16-3ce3-4c0e-9fc2-841a02e34c8e",
   "metadata": {},
   "source": [
    "## Resultados obtenidos \n",
    "\n",
    "La presicion es del 73% por lo que el modelo se puede mejorar."
   ]
  },
  {
   "cell_type": "code",
   "execution_count": 29,
   "id": "41e2b8be-4268-4def-8a08-a433a1a8905f",
   "metadata": {},
   "outputs": [
    {
     "name": "stdout",
     "output_type": "stream",
     "text": [
      "              precision    recall  f1-score   support\n",
      "\n",
      "           0       0.82      0.79      0.80       108\n",
      "           1       0.54      0.59      0.56        46\n",
      "\n",
      "    accuracy                           0.73       154\n",
      "   macro avg       0.68      0.69      0.68       154\n",
      "weighted avg       0.73      0.73      0.73       154\n",
      "\n"
     ]
    }
   ],
   "source": [
    " print(classification_report(Y_test, y_pred))"
   ]
  },
  {
   "cell_type": "code",
   "execution_count": 30,
   "id": "feeb6ceb-e973-4927-8748-f890f57296f3",
   "metadata": {},
   "outputs": [
    {
     "data": {
      "text/plain": [
       "array(['0', '1'], dtype=object)"
      ]
     },
     "execution_count": 30,
     "metadata": {},
     "output_type": "execute_result"
    }
   ],
   "source": [
    "arbol.classes_"
   ]
  },
  {
   "cell_type": "code",
   "execution_count": 31,
   "id": "bc9234fa-468c-4932-9830-ce6cdb3a3da3",
   "metadata": {},
   "outputs": [],
   "source": [
    "importancia= arbol.feature_importances_"
   ]
  },
  {
   "cell_type": "code",
   "execution_count": 32,
   "id": "42e3bea9-b2c8-4653-aeb3-ff55dc3d9274",
   "metadata": {},
   "outputs": [
    {
     "data": {
      "text/html": [
       "<div>\n",
       "<style scoped>\n",
       "    .dataframe tbody tr th:only-of-type {\n",
       "        vertical-align: middle;\n",
       "    }\n",
       "\n",
       "    .dataframe tbody tr th {\n",
       "        vertical-align: top;\n",
       "    }\n",
       "\n",
       "    .dataframe thead th {\n",
       "        text-align: right;\n",
       "    }\n",
       "</style>\n",
       "<table border=\"1\" class=\"dataframe\">\n",
       "  <thead>\n",
       "    <tr style=\"text-align: right;\">\n",
       "      <th></th>\n",
       "      <th>Atributo</th>\n",
       "      <th>Importancia</th>\n",
       "    </tr>\n",
       "  </thead>\n",
       "  <tbody>\n",
       "    <tr>\n",
       "      <th>0</th>\n",
       "      <td>DiabetesPedigreeFunction</td>\n",
       "      <td>0.227737</td>\n",
       "    </tr>\n",
       "    <tr>\n",
       "      <th>1</th>\n",
       "      <td>Indice</td>\n",
       "      <td>0.189253</td>\n",
       "    </tr>\n",
       "    <tr>\n",
       "      <th>2</th>\n",
       "      <td>Age</td>\n",
       "      <td>0.169861</td>\n",
       "    </tr>\n",
       "    <tr>\n",
       "      <th>3</th>\n",
       "      <td>Glucosa</td>\n",
       "      <td>0.107666</td>\n",
       "    </tr>\n",
       "    <tr>\n",
       "      <th>4</th>\n",
       "      <td>BloodPressure</td>\n",
       "      <td>0.107547</td>\n",
       "    </tr>\n",
       "    <tr>\n",
       "      <th>5</th>\n",
       "      <td>Insulin</td>\n",
       "      <td>0.100595</td>\n",
       "    </tr>\n",
       "    <tr>\n",
       "      <th>6</th>\n",
       "      <td>SkinThickness</td>\n",
       "      <td>0.079527</td>\n",
       "    </tr>\n",
       "    <tr>\n",
       "      <th>7</th>\n",
       "      <td>Presion</td>\n",
       "      <td>0.017814</td>\n",
       "    </tr>\n",
       "  </tbody>\n",
       "</table>\n",
       "</div>"
      ],
      "text/plain": [
       "                   Atributo  Importancia\n",
       "0  DiabetesPedigreeFunction     0.227737\n",
       "1                    Indice     0.189253\n",
       "2                       Age     0.169861\n",
       "3                   Glucosa     0.107666\n",
       "4             BloodPressure     0.107547\n",
       "5                   Insulin     0.100595\n",
       "6             SkinThickness     0.079527\n",
       "7                   Presion     0.017814"
      ]
     },
     "execution_count": 32,
     "metadata": {},
     "output_type": "execute_result"
    }
   ],
   "source": [
    "importancia_atributo = pd.DataFrame(data={\"Atributo\": X_train.columns,\"Importancia\": importancia})\n",
    "importancia_atributo = importancia_atributo.sort_values(by='Importancia', ascending=False).reset_index(drop=True)\n",
    "importancia_atributo"
   ]
  },
  {
   "cell_type": "code",
   "execution_count": 33,
   "id": "252d9eb5-ed88-4a77-bfdb-52938da3f06b",
   "metadata": {},
   "outputs": [
    {
     "data": {
      "image/png": "[encoded data removed]",
      "text/plain": [
       "<Figure size 1800x720 with 1 Axes>"
      ]
     },
     "metadata": {
      "needs_background": "light"
     },
     "output_type": "display_data"
    }
   ],
   "source": [
    "fig = plt.figure(figsize=(25,10))\n",
    "_ = tree.plot_tree(arbol, max_depth=3, feature_names=X.columns, class_names=[\"0\", \"1\"], filled=True, fontsize=9)"
   ]
  },
  {
   "cell_type": "code",
   "execution_count": null,
   "id": "c77498b1-8f63-4dfd-8f39-031ed284173f",
   "metadata": {},
   "outputs": [],
   "source": []
  }
 ],
 "metadata": {
  "kernelspec": {
   "display_name": "Python 3 (ipykernel)",
   "language": "python",
   "name": "python3"
  },
  "language_info": {
   "codemirror_mode": {
    "name": "ipython",
    "version": 3
   },
   "file_extension": ".py",
   "mimetype": "text/x-python",
   "name": "python",
   "nbconvert_exporter": "python",
   "pygments_lexer": "ipython3",
   "version": "3.9.12"
  }
 },
 "nbformat": 4,
 "nbformat_minor": 5
}
